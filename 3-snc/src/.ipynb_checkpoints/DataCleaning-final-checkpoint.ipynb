{
 "cells": [
  {
   "cell_type": "code",
   "execution_count": 1,
   "metadata": {},
   "outputs": [],
   "source": [
    "import numpy as np\n",
    "import pandas as pd\n",
    "import matplotlib\n",
    "import geopandas as gpd\n",
    "import matplotlib.pyplot as plt\n",
    "import seaborn as sns\n",
    "import folium\n",
    "%matplotlib inline\n",
    "\n",
    "from os import path, getcwd\n",
    "from glob import glob\n",
    "import pykalman\n",
    "import datetime as dt"
   ]
  },
  {
   "cell_type": "code",
   "execution_count": 2,
   "metadata": {},
   "outputs": [
    {
     "name": "stdout",
     "output_type": "stream",
     "text": [
      "PMV_AIS_NewWestminster_Current.txt\n",
      "PMV_AIS_Deltaport_Current.txt\n",
      "PMV_AIS_Deltaport_History.txt\n",
      "PMV_AIS_NewWestminster_History.txt\n"
     ]
    }
   ],
   "source": [
    "data_dir = '../data/workshop-content18/3-snc/data/'\n",
    "ais_pathnames = glob(data_dir + '*.txt')\n",
    "ais_basenames = [path.basename(pn) for pn in ais_pathnames]\n",
    "for bn in ais_basenames:\n",
    "    print(bn)"
   ]
  },
  {
   "cell_type": "code",
   "execution_count": 3,
   "metadata": {},
   "outputs": [],
   "source": [
    "delta_cur_basename = next(bn for bn in ais_basenames if 'Deltaport_Current' in bn)\n",
    "delta_his_basename = next(bn for bn in ais_basenames if 'Deltaport_History' in bn)"
   ]
  },
  {
   "cell_type": "code",
   "execution_count": 4,
   "metadata": {},
   "outputs": [
    {
     "name": "stderr",
     "output_type": "stream",
     "text": [
      "/opt/conda/lib/python3.6/site-packages/IPython/core/interactiveshell.py:2785: DtypeWarning: Columns (0) have mixed types. Specify dtype option on import or set low_memory=False.\n",
      "  interactivity=interactivity, compiler=compiler, result=result)\n"
     ]
    }
   ],
   "source": [
    "#max_rows=int(3e7)\n",
    "delta_cur = pd.read_csv(\n",
    "    data_dir + delta_cur_basename, sep='\\t',\n",
    "    parse_dates=['ReceivedTime'],usecols=['UserID','ROT','SOG','Longitude','Latitude',\n",
    "                                         'TrueHeading','ReceivedTime'])"
   ]
  },
  {
   "cell_type": "code",
   "execution_count": 5,
   "metadata": {},
   "outputs": [
    {
     "data": {
      "text/html": [
       "<div>\n",
       "<style scoped>\n",
       "    .dataframe tbody tr th:only-of-type {\n",
       "        vertical-align: middle;\n",
       "    }\n",
       "\n",
       "    .dataframe tbody tr th {\n",
       "        vertical-align: top;\n",
       "    }\n",
       "\n",
       "    .dataframe thead th {\n",
       "        text-align: right;\n",
       "    }\n",
       "</style>\n",
       "<table border=\"1\" class=\"dataframe\">\n",
       "  <thead>\n",
       "    <tr style=\"text-align: right;\">\n",
       "      <th></th>\n",
       "      <th>UserID</th>\n",
       "      <th>ROT</th>\n",
       "      <th>SOG</th>\n",
       "      <th>Longitude</th>\n",
       "      <th>Latitude</th>\n",
       "      <th>TrueHeading</th>\n",
       "      <th>ReceivedTime</th>\n",
       "    </tr>\n",
       "  </thead>\n",
       "  <tbody>\n",
       "    <tr>\n",
       "      <th>0</th>\n",
       "      <td>316005621</td>\n",
       "      <td>-127.0</td>\n",
       "      <td>0.1</td>\n",
       "      <td>-122.77156</td>\n",
       "      <td>49.23065</td>\n",
       "      <td>511.0</td>\n",
       "      <td>2013-10-22 01:05:24.510</td>\n",
       "    </tr>\n",
       "    <tr>\n",
       "      <th>1</th>\n",
       "      <td>316018851</td>\n",
       "      <td>0.0</td>\n",
       "      <td>1.7</td>\n",
       "      <td>-123.05445</td>\n",
       "      <td>49.29853</td>\n",
       "      <td>110.0</td>\n",
       "      <td>2013-10-22 01:05:25.400</td>\n",
       "    </tr>\n",
       "    <tr>\n",
       "      <th>2</th>\n",
       "      <td>316003679</td>\n",
       "      <td>-127.0</td>\n",
       "      <td>0.1</td>\n",
       "      <td>-123.10751</td>\n",
       "      <td>49.31308</td>\n",
       "      <td>511.0</td>\n",
       "      <td>2013-10-22 01:05:25.853</td>\n",
       "    </tr>\n",
       "    <tr>\n",
       "      <th>3</th>\n",
       "      <td>316014621</td>\n",
       "      <td>127.0</td>\n",
       "      <td>12.3</td>\n",
       "      <td>-123.09534</td>\n",
       "      <td>49.29940</td>\n",
       "      <td>210.0</td>\n",
       "      <td>2013-10-22 01:05:26.027</td>\n",
       "    </tr>\n",
       "    <tr>\n",
       "      <th>4</th>\n",
       "      <td>316005721</td>\n",
       "      <td>-127.0</td>\n",
       "      <td>0.1</td>\n",
       "      <td>-123.10684</td>\n",
       "      <td>49.31094</td>\n",
       "      <td>511.0</td>\n",
       "      <td>2013-10-22 01:05:26.620</td>\n",
       "    </tr>\n",
       "  </tbody>\n",
       "</table>\n",
       "</div>"
      ],
      "text/plain": [
       "      UserID    ROT   SOG  Longitude  Latitude  TrueHeading  \\\n",
       "0  316005621 -127.0   0.1 -122.77156  49.23065        511.0   \n",
       "1  316018851    0.0   1.7 -123.05445  49.29853        110.0   \n",
       "2  316003679 -127.0   0.1 -123.10751  49.31308        511.0   \n",
       "3  316014621  127.0  12.3 -123.09534  49.29940        210.0   \n",
       "4  316005721 -127.0   0.1 -123.10684  49.31094        511.0   \n",
       "\n",
       "             ReceivedTime  \n",
       "0 2013-10-22 01:05:24.510  \n",
       "1 2013-10-22 01:05:25.400  \n",
       "2 2013-10-22 01:05:25.853  \n",
       "3 2013-10-22 01:05:26.027  \n",
       "4 2013-10-22 01:05:26.620  "
      ]
     },
     "execution_count": 5,
     "metadata": {},
     "output_type": "execute_result"
    }
   ],
   "source": [
    "delta_cur = delta_cur.dropna(axis=0)\n",
    "delta_cur.head()"
   ]
  },
  {
   "cell_type": "code",
   "execution_count": 6,
   "metadata": {},
   "outputs": [
    {
     "name": "stdout",
     "output_type": "stream",
     "text": [
      "# na: 0\n"
     ]
    }
   ],
   "source": [
    "if delta_cur.isna().iloc[-1,:].sum() > 10:\n",
    "    delta_cur = delta_cur.iloc[:-1, :]\n",
    "\n",
    "print('# na:', (delta_cur.isna().sum(axis=1) > 5).sum())"
   ]
  },
  {
   "cell_type": "code",
   "execution_count": 7,
   "metadata": {
    "scrolled": false
   },
   "outputs": [
    {
     "name": "stdout",
     "output_type": "stream",
     "text": [
      "<class 'pandas.core.frame.DataFrame'>\n",
      "Int64Index: 2560654 entries, 0 to 2560653\n",
      "Data columns (total 7 columns):\n",
      "UserID          object\n",
      "ROT             float64\n",
      "SOG             float64\n",
      "Longitude       float64\n",
      "Latitude        float64\n",
      "TrueHeading     float64\n",
      "ReceivedTime    datetime64[ns]\n",
      "dtypes: datetime64[ns](1), float64(5), object(1)\n",
      "memory usage: 236.3+ MB\n"
     ]
    }
   ],
   "source": [
    "delta_cur.info()"
   ]
  },
  {
   "cell_type": "code",
   "execution_count": 8,
   "metadata": {},
   "outputs": [],
   "source": [
    "#extract only lat and lon needed\n",
    "mask = (delta_cur['Longitude']>-127)&(delta_cur['Longitude']<-120)\n",
    "mask = mask & (delta_cur['Latitude']>48)|(delta_cur['Latitude']<50)\n",
    "\n",
    "delta_cur = delta_cur[mask]"
   ]
  },
  {
   "cell_type": "code",
   "execution_count": 9,
   "metadata": {},
   "outputs": [],
   "source": [
    "# 6 minutes = 360 seconds\n",
    "delta_cur['Time2'] = delta_cur['ReceivedTime'].apply(lambda x: int(360*round(x.timestamp()/360)))"
   ]
  },
  {
   "cell_type": "code",
   "execution_count": 10,
   "metadata": {},
   "outputs": [],
   "source": [
    "#delta_cur = delta_cur.drop(['ReceivedTime'],axis=1)"
   ]
  },
  {
   "cell_type": "code",
   "execution_count": 11,
   "metadata": {},
   "outputs": [
    {
     "data": {
      "text/html": [
       "<div>\n",
       "<style scoped>\n",
       "    .dataframe tbody tr th:only-of-type {\n",
       "        vertical-align: middle;\n",
       "    }\n",
       "\n",
       "    .dataframe tbody tr th {\n",
       "        vertical-align: top;\n",
       "    }\n",
       "\n",
       "    .dataframe thead th {\n",
       "        text-align: right;\n",
       "    }\n",
       "</style>\n",
       "<table border=\"1\" class=\"dataframe\">\n",
       "  <thead>\n",
       "    <tr style=\"text-align: right;\">\n",
       "      <th></th>\n",
       "      <th>UserID</th>\n",
       "      <th>ROT</th>\n",
       "      <th>SOG</th>\n",
       "      <th>Longitude</th>\n",
       "      <th>Latitude</th>\n",
       "      <th>TrueHeading</th>\n",
       "      <th>ReceivedTime</th>\n",
       "      <th>Time2</th>\n",
       "    </tr>\n",
       "  </thead>\n",
       "  <tbody>\n",
       "    <tr>\n",
       "      <th>0</th>\n",
       "      <td>316005621</td>\n",
       "      <td>-127.0</td>\n",
       "      <td>0.1</td>\n",
       "      <td>-122.77156</td>\n",
       "      <td>49.23065</td>\n",
       "      <td>511.0</td>\n",
       "      <td>2013-10-22 01:05:24.510</td>\n",
       "      <td>1382403960</td>\n",
       "    </tr>\n",
       "    <tr>\n",
       "      <th>1</th>\n",
       "      <td>316018851</td>\n",
       "      <td>0.0</td>\n",
       "      <td>1.7</td>\n",
       "      <td>-123.05445</td>\n",
       "      <td>49.29853</td>\n",
       "      <td>110.0</td>\n",
       "      <td>2013-10-22 01:05:25.400</td>\n",
       "      <td>1382403960</td>\n",
       "    </tr>\n",
       "    <tr>\n",
       "      <th>2</th>\n",
       "      <td>316003679</td>\n",
       "      <td>-127.0</td>\n",
       "      <td>0.1</td>\n",
       "      <td>-123.10751</td>\n",
       "      <td>49.31308</td>\n",
       "      <td>511.0</td>\n",
       "      <td>2013-10-22 01:05:25.853</td>\n",
       "      <td>1382403960</td>\n",
       "    </tr>\n",
       "    <tr>\n",
       "      <th>3</th>\n",
       "      <td>316014621</td>\n",
       "      <td>127.0</td>\n",
       "      <td>12.3</td>\n",
       "      <td>-123.09534</td>\n",
       "      <td>49.29940</td>\n",
       "      <td>210.0</td>\n",
       "      <td>2013-10-22 01:05:26.027</td>\n",
       "      <td>1382403960</td>\n",
       "    </tr>\n",
       "    <tr>\n",
       "      <th>4</th>\n",
       "      <td>316005721</td>\n",
       "      <td>-127.0</td>\n",
       "      <td>0.1</td>\n",
       "      <td>-123.10684</td>\n",
       "      <td>49.31094</td>\n",
       "      <td>511.0</td>\n",
       "      <td>2013-10-22 01:05:26.620</td>\n",
       "      <td>1382403960</td>\n",
       "    </tr>\n",
       "  </tbody>\n",
       "</table>\n",
       "</div>"
      ],
      "text/plain": [
       "      UserID    ROT   SOG  Longitude  Latitude  TrueHeading  \\\n",
       "0  316005621 -127.0   0.1 -122.77156  49.23065        511.0   \n",
       "1  316018851    0.0   1.7 -123.05445  49.29853        110.0   \n",
       "2  316003679 -127.0   0.1 -123.10751  49.31308        511.0   \n",
       "3  316014621  127.0  12.3 -123.09534  49.29940        210.0   \n",
       "4  316005721 -127.0   0.1 -123.10684  49.31094        511.0   \n",
       "\n",
       "             ReceivedTime       Time2  \n",
       "0 2013-10-22 01:05:24.510  1382403960  \n",
       "1 2013-10-22 01:05:25.400  1382403960  \n",
       "2 2013-10-22 01:05:25.853  1382403960  \n",
       "3 2013-10-22 01:05:26.027  1382403960  \n",
       "4 2013-10-22 01:05:26.620  1382403960  "
      ]
     },
     "execution_count": 11,
     "metadata": {},
     "output_type": "execute_result"
    }
   ],
   "source": [
    "delta_cur.head()"
   ]
  },
  {
   "cell_type": "code",
   "execution_count": 12,
   "metadata": {
    "scrolled": true
   },
   "outputs": [
    {
     "data": {
      "text/plain": [
       "(2502883, 8)"
      ]
     },
     "execution_count": 12,
     "metadata": {},
     "output_type": "execute_result"
    }
   ],
   "source": [
    "delta_cur.shape"
   ]
  },
  {
   "cell_type": "code",
   "execution_count": 13,
   "metadata": {},
   "outputs": [
    {
     "name": "stdout",
     "output_type": "stream",
     "text": [
      "num rows for which userid count <= 1000: 54122\n"
     ]
    }
   ],
   "source": [
    "nPoints_by_UserID = pd.value_counts(delta_cur.UserID)\n",
    "nPoints_threshold = 1000\n",
    "print('num rows for which userid count <= 1000:', nPoints_by_UserID.loc[nPoints_by_UserID <= 1000].values.sum())\n",
    "userID_allowed = nPoints_by_UserID.index[nPoints_by_UserID > nPoints_threshold]"
   ]
  },
  {
   "cell_type": "code",
   "execution_count": 14,
   "metadata": {},
   "outputs": [
    {
     "data": {
      "text/plain": [
       "266"
      ]
     },
     "execution_count": 14,
     "metadata": {},
     "output_type": "execute_result"
    }
   ],
   "source": [
    "#number of ships selected\n",
    "len(list(userID_allowed))"
   ]
  },
  {
   "cell_type": "code",
   "execution_count": 15,
   "metadata": {},
   "outputs": [],
   "source": [
    "delta_cur = delta_cur[delta_cur['UserID'].isin(list(userID_allowed))]"
   ]
  },
  {
   "cell_type": "code",
   "execution_count": 16,
   "metadata": {},
   "outputs": [
    {
     "data": {
      "text/html": [
       "<div>\n",
       "<style scoped>\n",
       "    .dataframe tbody tr th:only-of-type {\n",
       "        vertical-align: middle;\n",
       "    }\n",
       "\n",
       "    .dataframe tbody tr th {\n",
       "        vertical-align: top;\n",
       "    }\n",
       "\n",
       "    .dataframe thead th {\n",
       "        text-align: right;\n",
       "    }\n",
       "</style>\n",
       "<table border=\"1\" class=\"dataframe\">\n",
       "  <thead>\n",
       "    <tr style=\"text-align: right;\">\n",
       "      <th></th>\n",
       "      <th>UserID</th>\n",
       "      <th>ROT</th>\n",
       "      <th>SOG</th>\n",
       "      <th>Longitude</th>\n",
       "      <th>Latitude</th>\n",
       "      <th>TrueHeading</th>\n",
       "      <th>ReceivedTime</th>\n",
       "      <th>Time2</th>\n",
       "    </tr>\n",
       "  </thead>\n",
       "  <tbody>\n",
       "    <tr>\n",
       "      <th>0</th>\n",
       "      <td>316005621</td>\n",
       "      <td>-127.0</td>\n",
       "      <td>0.1</td>\n",
       "      <td>-122.77156</td>\n",
       "      <td>49.23065</td>\n",
       "      <td>511.0</td>\n",
       "      <td>2013-10-22 01:05:24.510</td>\n",
       "      <td>1382403960</td>\n",
       "    </tr>\n",
       "    <tr>\n",
       "      <th>1</th>\n",
       "      <td>316018851</td>\n",
       "      <td>0.0</td>\n",
       "      <td>1.7</td>\n",
       "      <td>-123.05445</td>\n",
       "      <td>49.29853</td>\n",
       "      <td>110.0</td>\n",
       "      <td>2013-10-22 01:05:25.400</td>\n",
       "      <td>1382403960</td>\n",
       "    </tr>\n",
       "    <tr>\n",
       "      <th>2</th>\n",
       "      <td>316003679</td>\n",
       "      <td>-127.0</td>\n",
       "      <td>0.1</td>\n",
       "      <td>-123.10751</td>\n",
       "      <td>49.31308</td>\n",
       "      <td>511.0</td>\n",
       "      <td>2013-10-22 01:05:25.853</td>\n",
       "      <td>1382403960</td>\n",
       "    </tr>\n",
       "    <tr>\n",
       "      <th>3</th>\n",
       "      <td>316014621</td>\n",
       "      <td>127.0</td>\n",
       "      <td>12.3</td>\n",
       "      <td>-123.09534</td>\n",
       "      <td>49.29940</td>\n",
       "      <td>210.0</td>\n",
       "      <td>2013-10-22 01:05:26.027</td>\n",
       "      <td>1382403960</td>\n",
       "    </tr>\n",
       "    <tr>\n",
       "      <th>4</th>\n",
       "      <td>316005721</td>\n",
       "      <td>-127.0</td>\n",
       "      <td>0.1</td>\n",
       "      <td>-123.10684</td>\n",
       "      <td>49.31094</td>\n",
       "      <td>511.0</td>\n",
       "      <td>2013-10-22 01:05:26.620</td>\n",
       "      <td>1382403960</td>\n",
       "    </tr>\n",
       "  </tbody>\n",
       "</table>\n",
       "</div>"
      ],
      "text/plain": [
       "      UserID    ROT   SOG  Longitude  Latitude  TrueHeading  \\\n",
       "0  316005621 -127.0   0.1 -122.77156  49.23065        511.0   \n",
       "1  316018851    0.0   1.7 -123.05445  49.29853        110.0   \n",
       "2  316003679 -127.0   0.1 -123.10751  49.31308        511.0   \n",
       "3  316014621  127.0  12.3 -123.09534  49.29940        210.0   \n",
       "4  316005721 -127.0   0.1 -123.10684  49.31094        511.0   \n",
       "\n",
       "             ReceivedTime       Time2  \n",
       "0 2013-10-22 01:05:24.510  1382403960  \n",
       "1 2013-10-22 01:05:25.400  1382403960  \n",
       "2 2013-10-22 01:05:25.853  1382403960  \n",
       "3 2013-10-22 01:05:26.027  1382403960  \n",
       "4 2013-10-22 01:05:26.620  1382403960  "
      ]
     },
     "execution_count": 16,
     "metadata": {},
     "output_type": "execute_result"
    }
   ],
   "source": [
    "delta_cur.head()"
   ]
  },
  {
   "cell_type": "code",
   "execution_count": 17,
   "metadata": {},
   "outputs": [],
   "source": [
    "delta_cur.to_csv(\"delta_processed.csv\",sep='\\t')"
   ]
  },
  {
   "cell_type": "code",
   "execution_count": 18,
   "metadata": {},
   "outputs": [
    {
     "data": {
      "text/html": [
       "<div>\n",
       "<style scoped>\n",
       "    .dataframe tbody tr th:only-of-type {\n",
       "        vertical-align: middle;\n",
       "    }\n",
       "\n",
       "    .dataframe tbody tr th {\n",
       "        vertical-align: top;\n",
       "    }\n",
       "\n",
       "    .dataframe thead th {\n",
       "        text-align: right;\n",
       "    }\n",
       "</style>\n",
       "<table border=\"1\" class=\"dataframe\">\n",
       "  <thead>\n",
       "    <tr style=\"text-align: right;\">\n",
       "      <th></th>\n",
       "      <th>UserID</th>\n",
       "      <th>ROT</th>\n",
       "      <th>SOG</th>\n",
       "      <th>Longitude</th>\n",
       "      <th>Latitude</th>\n",
       "      <th>TrueHeading</th>\n",
       "      <th>ReceivedTime</th>\n",
       "      <th>Time2</th>\n",
       "    </tr>\n",
       "  </thead>\n",
       "  <tbody>\n",
       "    <tr>\n",
       "      <th>0</th>\n",
       "      <td>316005621</td>\n",
       "      <td>-127.0</td>\n",
       "      <td>0.1</td>\n",
       "      <td>-122.77156</td>\n",
       "      <td>49.23065</td>\n",
       "      <td>511.0</td>\n",
       "      <td>2013-10-22 01:05:24.510</td>\n",
       "      <td>1382403960</td>\n",
       "    </tr>\n",
       "    <tr>\n",
       "      <th>1</th>\n",
       "      <td>316018851</td>\n",
       "      <td>0.0</td>\n",
       "      <td>1.7</td>\n",
       "      <td>-123.05445</td>\n",
       "      <td>49.29853</td>\n",
       "      <td>110.0</td>\n",
       "      <td>2013-10-22 01:05:25.400</td>\n",
       "      <td>1382403960</td>\n",
       "    </tr>\n",
       "    <tr>\n",
       "      <th>2</th>\n",
       "      <td>316003679</td>\n",
       "      <td>-127.0</td>\n",
       "      <td>0.1</td>\n",
       "      <td>-123.10751</td>\n",
       "      <td>49.31308</td>\n",
       "      <td>511.0</td>\n",
       "      <td>2013-10-22 01:05:25.853</td>\n",
       "      <td>1382403960</td>\n",
       "    </tr>\n",
       "    <tr>\n",
       "      <th>3</th>\n",
       "      <td>316014621</td>\n",
       "      <td>127.0</td>\n",
       "      <td>12.3</td>\n",
       "      <td>-123.09534</td>\n",
       "      <td>49.29940</td>\n",
       "      <td>210.0</td>\n",
       "      <td>2013-10-22 01:05:26.027</td>\n",
       "      <td>1382403960</td>\n",
       "    </tr>\n",
       "    <tr>\n",
       "      <th>4</th>\n",
       "      <td>316005721</td>\n",
       "      <td>-127.0</td>\n",
       "      <td>0.1</td>\n",
       "      <td>-123.10684</td>\n",
       "      <td>49.31094</td>\n",
       "      <td>511.0</td>\n",
       "      <td>2013-10-22 01:05:26.620</td>\n",
       "      <td>1382403960</td>\n",
       "    </tr>\n",
       "  </tbody>\n",
       "</table>\n",
       "</div>"
      ],
      "text/plain": [
       "      UserID    ROT   SOG  Longitude  Latitude  TrueHeading  \\\n",
       "0  316005621 -127.0   0.1 -122.77156  49.23065        511.0   \n",
       "1  316018851    0.0   1.7 -123.05445  49.29853        110.0   \n",
       "2  316003679 -127.0   0.1 -123.10751  49.31308        511.0   \n",
       "3  316014621  127.0  12.3 -123.09534  49.29940        210.0   \n",
       "4  316005721 -127.0   0.1 -123.10684  49.31094        511.0   \n",
       "\n",
       "             ReceivedTime       Time2  \n",
       "0 2013-10-22 01:05:24.510  1382403960  \n",
       "1 2013-10-22 01:05:25.400  1382403960  \n",
       "2 2013-10-22 01:05:25.853  1382403960  \n",
       "3 2013-10-22 01:05:26.027  1382403960  \n",
       "4 2013-10-22 01:05:26.620  1382403960  "
      ]
     },
     "execution_count": 18,
     "metadata": {},
     "output_type": "execute_result"
    }
   ],
   "source": [
    "delta_cur.head()"
   ]
  },
  {
   "cell_type": "code",
   "execution_count": null,
   "metadata": {},
   "outputs": [],
   "source": []
  }
 ],
 "metadata": {
  "kernelspec": {
   "display_name": "Python 3",
   "language": "python",
   "name": "python3"
  },
  "language_info": {
   "codemirror_mode": {
    "name": "ipython",
    "version": 3
   },
   "file_extension": ".py",
   "mimetype": "text/x-python",
   "name": "python",
   "nbconvert_exporter": "python",
   "pygments_lexer": "ipython3",
   "version": "3.6.5"
  }
 },
 "nbformat": 4,
 "nbformat_minor": 2
}
