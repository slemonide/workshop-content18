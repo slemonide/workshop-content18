{
 "cells": [
  {
   "cell_type": "markdown",
   "metadata": {},
   "source": [
    "# Investigating one ship case\n",
    "\n",
    "### run DataCleaning-final.ipynb first"
   ]
  },
  {
   "cell_type": "code",
   "execution_count": 53,
   "metadata": {},
   "outputs": [],
   "source": [
    "import numpy as np\n",
    "import pandas as pd\n",
    "import matplotlib\n",
    "import geopandas as gpd\n",
    "import matplotlib.pyplot as plt\n",
    "import seaborn as sns\n",
    "import folium\n",
    "%matplotlib inline\n",
    "\n",
    "from os import path, getcwd\n",
    "from glob import glob\n",
    "import pykalman\n",
    "import datetime as dt"
   ]
  },
  {
   "cell_type": "code",
   "execution_count": 54,
   "metadata": {},
   "outputs": [],
   "source": [
    "delta_cur = pd.read_csv(\"delta_processed.csv\",sep='\\t',parse_dates=['ReceivedTime'])"
   ]
  },
  {
   "cell_type": "code",
   "execution_count": 55,
   "metadata": {},
   "outputs": [
    {
     "data": {
      "text/plain": [
       "211377300"
      ]
     },
     "execution_count": 55,
     "metadata": {},
     "output_type": "execute_result"
    }
   ],
   "source": [
    "user_ID_allowed = np.unique(delta_cur['UserID'])\n",
    "# As the first try, we choose one ship only\n",
    "UserID = list(user_ID_allowed)[1]\n",
    "UserID"
   ]
  },
  {
   "cell_type": "code",
   "execution_count": 56,
   "metadata": {},
   "outputs": [
    {
     "name": "stdout",
     "output_type": "stream",
     "text": [
      "<class 'pandas.core.frame.DataFrame'>\n",
      "RangeIndex: 1982 entries, 0 to 1981\n",
      "Data columns (total 7 columns):\n",
      "ROT             1982 non-null float64\n",
      "SOG             1982 non-null float64\n",
      "Longitude       1982 non-null float64\n",
      "Latitude        1982 non-null float64\n",
      "TrueHeading     1982 non-null float64\n",
      "ReceivedTime    1982 non-null datetime64[ns]\n",
      "Time2           1982 non-null int64\n",
      "dtypes: datetime64[ns](1), float64(5), int64(1)\n",
      "memory usage: 108.5 KB\n"
     ]
    }
   ],
   "source": [
    "df = delta_cur[delta_cur['UserID']==UserID] #select the single ship\n",
    "df = df.drop(['UserID','Unnamed: 0'],axis=1)\n",
    "df = df.sort_values(by=['Time2']).reset_index(drop=True) #sort entries by Time\n",
    "df.info()"
   ]
  },
  {
   "cell_type": "code",
   "execution_count": 57,
   "metadata": {
    "scrolled": true
   },
   "outputs": [
    {
     "data": {
      "text/html": [
       "<div>\n",
       "<style scoped>\n",
       "    .dataframe tbody tr th:only-of-type {\n",
       "        vertical-align: middle;\n",
       "    }\n",
       "\n",
       "    .dataframe tbody tr th {\n",
       "        vertical-align: top;\n",
       "    }\n",
       "\n",
       "    .dataframe thead th {\n",
       "        text-align: right;\n",
       "    }\n",
       "</style>\n",
       "<table border=\"1\" class=\"dataframe\">\n",
       "  <thead>\n",
       "    <tr style=\"text-align: right;\">\n",
       "      <th></th>\n",
       "      <th>ROT</th>\n",
       "      <th>SOG</th>\n",
       "      <th>Longitude</th>\n",
       "      <th>Latitude</th>\n",
       "      <th>TrueHeading</th>\n",
       "      <th>ReceivedTime</th>\n",
       "      <th>Time2</th>\n",
       "    </tr>\n",
       "  </thead>\n",
       "  <tbody>\n",
       "    <tr>\n",
       "      <th>0</th>\n",
       "      <td>0.0</td>\n",
       "      <td>20.3</td>\n",
       "      <td>-123.19649</td>\n",
       "      <td>48.18748</td>\n",
       "      <td>248.0</td>\n",
       "      <td>2013-10-25 11:52:00.693</td>\n",
       "      <td>1382702040</td>\n",
       "    </tr>\n",
       "    <tr>\n",
       "      <th>1</th>\n",
       "      <td>0.0</td>\n",
       "      <td>20.2</td>\n",
       "      <td>-123.19870</td>\n",
       "      <td>48.18689</td>\n",
       "      <td>248.0</td>\n",
       "      <td>2013-10-25 11:52:19.743</td>\n",
       "      <td>1382702040</td>\n",
       "    </tr>\n",
       "    <tr>\n",
       "      <th>2</th>\n",
       "      <td>0.0</td>\n",
       "      <td>20.9</td>\n",
       "      <td>-123.18581</td>\n",
       "      <td>48.40534</td>\n",
       "      <td>47.0</td>\n",
       "      <td>2013-10-29 01:28:30.580</td>\n",
       "      <td>1383010200</td>\n",
       "    </tr>\n",
       "    <tr>\n",
       "      <th>3</th>\n",
       "      <td>0.0</td>\n",
       "      <td>20.6</td>\n",
       "      <td>-123.18251</td>\n",
       "      <td>48.40707</td>\n",
       "      <td>42.0</td>\n",
       "      <td>2013-10-29 01:28:59.830</td>\n",
       "      <td>1383010200</td>\n",
       "    </tr>\n",
       "    <tr>\n",
       "      <th>4</th>\n",
       "      <td>0.0</td>\n",
       "      <td>20.8</td>\n",
       "      <td>-123.18113</td>\n",
       "      <td>48.40791</td>\n",
       "      <td>41.0</td>\n",
       "      <td>2013-10-29 01:29:12.767</td>\n",
       "      <td>1383010200</td>\n",
       "    </tr>\n",
       "  </tbody>\n",
       "</table>\n",
       "</div>"
      ],
      "text/plain": [
       "   ROT   SOG  Longitude  Latitude  TrueHeading            ReceivedTime  \\\n",
       "0  0.0  20.3 -123.19649  48.18748        248.0 2013-10-25 11:52:00.693   \n",
       "1  0.0  20.2 -123.19870  48.18689        248.0 2013-10-25 11:52:19.743   \n",
       "2  0.0  20.9 -123.18581  48.40534         47.0 2013-10-29 01:28:30.580   \n",
       "3  0.0  20.6 -123.18251  48.40707         42.0 2013-10-29 01:28:59.830   \n",
       "4  0.0  20.8 -123.18113  48.40791         41.0 2013-10-29 01:29:12.767   \n",
       "\n",
       "        Time2  \n",
       "0  1382702040  \n",
       "1  1382702040  \n",
       "2  1383010200  \n",
       "3  1383010200  \n",
       "4  1383010200  "
      ]
     },
     "execution_count": 57,
     "metadata": {},
     "output_type": "execute_result"
    }
   ],
   "source": [
    "del delta_cur\n",
    "df.head()"
   ]
  },
  {
   "cell_type": "code",
   "execution_count": 58,
   "metadata": {},
   "outputs": [],
   "source": [
    "# figure out if the ship leaves the Metro Vancouver\n",
    "time_diff = np.diff(df['Time2']) #the time between subsequent signals\n",
    "dfs =[] #here we store dataframe each of them is a part of unique path\n",
    "idx = 0\n",
    "#invesgate all cases where the ship was not tracked for an hour or more.\n",
    "#If ship is near the edge of Metro Vancouver, split path into two parts\n",
    "#-- we assume that it leaves the Metro Vancouver Area\n",
    "for i in range(len(time_diff)):\n",
    "    if time_diff[i]>3600: #1 hour = 60*60=3600 seconds\n",
    "        #investigate where the ship is located\n",
    "        lat = df.loc[i,'Latitude']\n",
    "        lon = df.loc[i,'Longitude']\n",
    "        #recall original filtering\n",
    "        #mask = (delta_cur['Longitude']>-127)&(delta_cur['Longitude']<-120)\n",
    "        #mask = mask & (delta_cur['Latitude']>48)|(delta_cur['Latitude']<50)\n",
    "        if (lat>-126.8)&(lat<-119.8)&(lon>48.2)&(lon<49.8):\n",
    "            #the ship is inside Metro Vancouver\n",
    "            continue\n",
    "        else:\n",
    "            dfs.append(df.iloc[idx:i])\n",
    "            idx = i+1\n",
    "            \n",
    "dfs.append(df.loc[idx:])  #append whatever chunk contains the last row          "
   ]
  },
  {
   "cell_type": "code",
   "execution_count": 59,
   "metadata": {},
   "outputs": [
    {
     "data": {
      "text/plain": [
       "2"
      ]
     },
     "execution_count": 59,
     "metadata": {},
     "output_type": "execute_result"
    }
   ],
   "source": [
    "#how many different paths we got\n",
    "len(dfs)"
   ]
  },
  {
   "cell_type": "code",
   "execution_count": 60,
   "metadata": {},
   "outputs": [],
   "source": [
    "df = dfs[0] # for now, approximate the one path\n",
    "df1 = dfs[1]"
   ]
  },
  {
   "cell_type": "code",
   "execution_count": 61,
   "metadata": {},
   "outputs": [],
   "source": [
    "#group by time (timedelta = 6 seconds) and compute mean location, ROT, SOG and TrueHeading\n",
    "def compute_mean(df_t):\n",
    "    rot =  np.mean(df_t['ROT'])\n",
    "    sog = np.mean(df_t['SOG'])\n",
    "    lat = np.mean(df_t['Longitude'])\n",
    "    lon = np.mean(df_t['Latitude'])\n",
    "    truehed = np.mean(df_t['TrueHeading'])\n",
    "    time2 = df_t['Time2'].iloc[0]\n",
    "    return [rot,sog,lon,lat,truehed,time2]\n",
    "\n",
    "def process_df(df):\n",
    "    col_names = df.columns.values.tolist()\n",
    "    col_names.remove('ReceivedTime')\n",
    "    df_new = pd.DataFrame(columns = col_names)\n",
    "    idx = 0 #next index in df_new to be written at\n",
    "    min_time = np.min(df['Time2'])\n",
    "    max_time = np.max(df['Time2'])\n",
    "    for t in range(min_time,max_time+360,360):\n",
    "        mask = (df['Time2'] == t)\n",
    "        if np.sum(mask)>0.5: #there is at least one entry\n",
    "            df_new.loc[idx] = compute_mean(df[mask])\n",
    "        else:\n",
    "            df_new.loc[idx] = np.nan\n",
    "        idx = idx + 1\n",
    "    return df_new"
   ]
  },
  {
   "cell_type": "code",
   "execution_count": 62,
   "metadata": {},
   "outputs": [],
   "source": [
    "#process each dataframe in dfs\n",
    "dfs_new = []\n",
    "for i in range(len(dfs)):\n",
    "    dfs_new.append(process_df(dfs[i]))\n",
    "#The data is ready for approximating paths"
   ]
  },
  {
   "cell_type": "code",
   "execution_count": 63,
   "metadata": {
    "scrolled": true
   },
   "outputs": [
    {
     "data": {
      "text/html": [
       "<div>\n",
       "<style scoped>\n",
       "    .dataframe tbody tr th:only-of-type {\n",
       "        vertical-align: middle;\n",
       "    }\n",
       "\n",
       "    .dataframe tbody tr th {\n",
       "        vertical-align: top;\n",
       "    }\n",
       "\n",
       "    .dataframe thead th {\n",
       "        text-align: right;\n",
       "    }\n",
       "</style>\n",
       "<table border=\"1\" class=\"dataframe\">\n",
       "  <thead>\n",
       "    <tr style=\"text-align: right;\">\n",
       "      <th></th>\n",
       "      <th>ROT</th>\n",
       "      <th>SOG</th>\n",
       "      <th>Longitude</th>\n",
       "      <th>Latitude</th>\n",
       "      <th>TrueHeading</th>\n",
       "      <th>Time2</th>\n",
       "    </tr>\n",
       "  </thead>\n",
       "  <tbody>\n",
       "    <tr>\n",
       "      <th>0</th>\n",
       "      <td>0.0</td>\n",
       "      <td>20.766667</td>\n",
       "      <td>48.406773</td>\n",
       "      <td>-123.183150</td>\n",
       "      <td>43.333333</td>\n",
       "      <td>1.383010e+09</td>\n",
       "    </tr>\n",
       "    <tr>\n",
       "      <th>1</th>\n",
       "      <td>NaN</td>\n",
       "      <td>NaN</td>\n",
       "      <td>NaN</td>\n",
       "      <td>NaN</td>\n",
       "      <td>NaN</td>\n",
       "      <td>NaN</td>\n",
       "    </tr>\n",
       "    <tr>\n",
       "      <th>2</th>\n",
       "      <td>0.0</td>\n",
       "      <td>20.200000</td>\n",
       "      <td>48.486680</td>\n",
       "      <td>-123.162270</td>\n",
       "      <td>345.000000</td>\n",
       "      <td>1.383011e+09</td>\n",
       "    </tr>\n",
       "    <tr>\n",
       "      <th>3</th>\n",
       "      <td>0.0</td>\n",
       "      <td>19.900000</td>\n",
       "      <td>48.496690</td>\n",
       "      <td>-123.166390</td>\n",
       "      <td>345.000000</td>\n",
       "      <td>1.383011e+09</td>\n",
       "    </tr>\n",
       "    <tr>\n",
       "      <th>4</th>\n",
       "      <td>0.0</td>\n",
       "      <td>20.046154</td>\n",
       "      <td>48.535350</td>\n",
       "      <td>-123.184956</td>\n",
       "      <td>340.076923</td>\n",
       "      <td>1.383012e+09</td>\n",
       "    </tr>\n",
       "  </tbody>\n",
       "</table>\n",
       "</div>"
      ],
      "text/plain": [
       "   ROT        SOG  Longitude    Latitude  TrueHeading         Time2\n",
       "0  0.0  20.766667  48.406773 -123.183150    43.333333  1.383010e+09\n",
       "1  NaN        NaN        NaN         NaN          NaN           NaN\n",
       "2  0.0  20.200000  48.486680 -123.162270   345.000000  1.383011e+09\n",
       "3  0.0  19.900000  48.496690 -123.166390   345.000000  1.383011e+09\n",
       "4  0.0  20.046154  48.535350 -123.184956   340.076923  1.383012e+09"
      ]
     },
     "execution_count": 63,
     "metadata": {},
     "output_type": "execute_result"
    }
   ],
   "source": [
    "df_new = dfs_new[1]\n",
    "df_new.head()"
   ]
  },
  {
   "cell_type": "code",
   "execution_count": 64,
   "metadata": {},
   "outputs": [
    {
     "name": "stdout",
     "output_type": "stream",
     "text": [
      "[[-123.18315 48.40677333333334]\n",
      " [-- --]\n",
      " [-123.16227 48.48668]\n",
      " [-123.16639 48.49669]\n",
      " [-123.18495615384614 48.53535]]\n"
     ]
    }
   ],
   "source": [
    "#to feed the data to pykalman we need to mask NaN values\n",
    "mask = df_new[['Latitude','Longitude']].isnull()\n",
    "measurements = np.ma.array(np.array(df_new[['Latitude','Longitude']]),mask=mask)\n",
    "print(measurements[:5,:])"
   ]
  },
  {
   "cell_type": "code",
   "execution_count": 65,
   "metadata": {},
   "outputs": [
    {
     "name": "stdout",
     "output_type": "stream",
     "text": [
      "Transition matrix\n",
      "[[ 1.  1.  0.  0.]\n",
      " [ 0.  1.  0.  0.]\n",
      " [ 0.  0.  1.  1.]\n",
      " [ 0.  0.  0.  1.]]\n",
      "Observation matrix\n",
      "[[ 1.  0.  0.  0.]\n",
      " [ 0.  0.  1.  0.]]\n"
     ]
    }
   ],
   "source": [
    "from pykalman import KalmanFilter\n",
    "transition_matrix = np.eye(4)\n",
    "transition_matrix[0,1]=1\n",
    "transition_matrix[2,3]=1 #[[1, 1], [0, 1]]\n",
    "print('Transition matrix')\n",
    "print(transition_matrix)\n",
    "observation_matrix= np.zeros((2,4))\n",
    "observation_matrix[0,0]=1\n",
    "observation_matrix[1,2]=1\n",
    "print('Observation matrix')\n",
    "print(observation_matrix)\n",
    "initial_state = (df_new.loc[0,'Latitude'],0,df_new.loc[0,'Longitude'],0)\n",
    "kf = KalmanFilter(transition_matrices = transition_matrix,\n",
    "                  observation_matrices = observation_matrix,\n",
    "                  initial_state_mean=initial_state)\n",
    "\n",
    "kf = kf.em(measurements, n_iter=5)\n",
    "\n",
    "(filtered_state_means, filtered_state_covariances) = kf.filter(measurements)\n",
    "(smoothed_state_means, smoothed_state_covariances) = kf.smooth(measurements)"
   ]
  },
  {
   "cell_type": "code",
   "execution_count": 66,
   "metadata": {},
   "outputs": [
    {
     "data": {
      "text/plain": [
       "[<matplotlib.lines.Line2D at 0x7f7d6933d0f0>]"
      ]
     },
     "execution_count": 66,
     "metadata": {},
     "output_type": "execute_result"
    },
    {
     "data": {
      "image/png": "[encoded data removed]",
      "text/plain": [
       "<matplotlib.figure.Figure at 0x7f7d609d6320>"
      ]
     },
     "metadata": {},
     "output_type": "display_data"
    }
   ],
   "source": [
    "view = df_new[['Latitude','Longitude']].dropna(axis=0)\n",
    "plt.plot()\n",
    "plt.scatter(view['Latitude'],view['Longitude'])\n",
    "plt.plot(smoothed_state_means[:,0],smoothed_state_means[:,2],color='red')"
   ]
  },
  {
   "cell_type": "markdown",
   "metadata": {},
   "source": [
    "# Trying to write Kalman filter from scratch (raw and may be not working)"
   ]
  },
  {
   "cell_type": "code",
   "execution_count": 41,
   "metadata": {},
   "outputs": [],
   "source": [
    "#uses the code from https://stackoverflow.com/questions/13901997/kalman-2d-filter-in-python\n",
    "def kalman_xy(x, P, measurement, R,\n",
    "              motion = np.matrix('0. 0. 0. 0.').T,\n",
    "              Q = np.matrix(np.eye(4))):\n",
    "    \"\"\"\n",
    "    Parameters:    \n",
    "    x: initial state 4-tuple of location and velocity: (x0, x1, x0_dot, x1_dot)\n",
    "    P: initial uncertainty convariance matrix\n",
    "    measurement: observed position\n",
    "    R: measurement noise \n",
    "    motion: external motion added to state vector x\n",
    "    Q: motion noise (same shape as P)\n",
    "    \"\"\"\n",
    "    return kalman(x, P, measurement, R, motion, Q,\n",
    "                  F = np.matrix('''\n",
    "                      1. 0. 1. 0.;\n",
    "                      0. 1. 0. 1.;\n",
    "                      0. 0. 1. 0.;\n",
    "                      0. 0. 0. 1.\n",
    "                      '''),\n",
    "                  H = np.matrix('''\n",
    "                      1. 0. 0. 0.;\n",
    "                      0. 1. 0. 0.'''))\n",
    "\n",
    "def kalman(x, P, measurement, R, motion, Q, F, H):\n",
    "    '''\n",
    "    Parameters:\n",
    "    x: initial state\n",
    "    P: initial uncertainty convariance matrix\n",
    "    measurement: observed position (same shape as H*x)\n",
    "    R: measurement noise (same shape as H)\n",
    "    motion: external motion added to state vector x\n",
    "    Q: motion noise (same shape as P)\n",
    "    F: next state function: x_prime = F*x\n",
    "    H: measurement function: position = H*x\n",
    "\n",
    "    Return: the updated and predicted new values for (x, P)\n",
    "\n",
    "    See also http://en.wikipedia.org/wiki/Kalman_filter\n",
    "\n",
    "    This version of kalman can be applied to many different situations by\n",
    "    appropriately defining F and H \n",
    "    '''\n",
    "    # UPDATE x, P based on measurement m\n",
    "    if not np.any(np.ma.getmask(measurement)):        \n",
    "        # distance between measured and current position-belief\n",
    "        y = np.matrix(measurement).T - H * x\n",
    "        #print(timed)\n",
    "        S = H * P * H.T + R  # residual convariance\n",
    "        K = P * H.T * S.I    # Kalman gain\n",
    "        x = x + K*y\n",
    "        I = np.matrix(np.eye(F.shape[0])) # identity matrix\n",
    "        P = (I - K*H)*P\n",
    "    else:\n",
    "        K = np.zeros(K.shape)\n",
    "    # PREDICT x, P based on motion\n",
    "    x = F*x + motion\n",
    "    P = F*P*F.T + Q\n",
    "\n",
    "    return x, P"
   ]
  },
  {
   "cell_type": "code",
   "execution_count": null,
   "metadata": {},
   "outputs": [],
   "source": [
    "H= np.matrix([[1., 0., 0., 0.],[0., 1., 0., 0.]])\n",
    "print(H)"
   ]
  },
  {
   "cell_type": "code",
   "execution_count": null,
   "metadata": {},
   "outputs": [],
   "source": [
    "def kalman_wiki(x, P, measurement, R=None, Q=None, F=None,\n",
    "                H= np.matrix([[1., 0., 0., 0.],[0., 1., 0., 0.]])):\n",
    "    \"\"\"\n",
    "    General model:\n",
    "    x_new = Fx+noise1\n",
    "    x1_new = Hx_new +noise2,\n",
    "    where noise1 is Gaussian with mean 0 and covariance matrix S\n",
    "    and noise 2 is Gaussian with mean 0 and covariance matrix P\n",
    "    \n",
    "    Variables:\n",
    "    x: estimated current kinematic vector (position+velocity+acceleration)\n",
    "    x1: observed part of kinematic vector\n",
    "    H: measurement matix, specifies which entries of kinematic vector are observed.\n",
    "        Hopefully, x1~H@x\n",
    "    P: estimated error covariance\n",
    "    Q: covariance matrix of the process noise\n",
    "    \n",
    "    \"\"\"\n",
    "    if R is None:\n",
    "        R=0.2*np.eye(len(measurement))\n",
    "    if Q is None:\n",
    "        Q=np.zeros(P.shape)\n",
    "    if F is None:\n",
    "        F = np.eye(x.shape[0])\n",
    "        F[0,2] = 1 #impact of velocity to x-position\n",
    "        F[1,3] = 1 #impact of velocity to y-position\n",
    "    \n",
    "    x1 = np.transpose(np.matrix(measurement))\n",
    "    #pre-fitting prediction\n",
    "    y = x1 - H@x #measurement pre-fit residual (estimated mean)\n",
    "    S = R + H@P@np.transpose(H) #measurenet pre-fit covariance (estimated covariance)\n",
    "    K = P@np.transpose(H)@np.linalg.inv(S) #Kalman gain\n",
    "    \n",
    "    #predict\n",
    "    x = F@x #new state estimate\n",
    "    P = F@P@np.transpose(F) + Q #new covariance estimate\n",
    "    \n",
    "    #update predictions based on pre-fitting info\n",
    "    x = x + K@y\n",
    "    #dummy_var = np.eye(K.shape[0]) - K@H    \n",
    "    #P = dummy_var@P@np.transpose(dummy_var) + K@R@np.transpose(K)\n",
    "    P = (np.eye(H.shape[1]) - K@H)@P\n",
    "    y = x1 - H@x\n",
    "    return x,P\n",
    "   "
   ]
  },
  {
   "cell_type": "code",
   "execution_count": null,
   "metadata": {
    "scrolled": true
   },
   "outputs": [],
   "source": [
    "true_x = np.linspace(1,4,num=100)\n",
    "true_y = [x**2 for x in true_x]\n",
    "plt.plot(true_x,true_y)\n",
    "\n",
    "x1 = np.linspace(1,4,num=10)\n",
    "y1 = [x**2 for x in x1]\n",
    "observed_x = x1 + 0.2*np.random.randn(10)\n",
    "observed_y = y1+ 0.2*np.random.randn(10)\n",
    "measurements = [[observed_x[i],observed_y[i]] for i in range(len(observed_x))]\n",
    "plt.scatter(observed_x,observed_y,color='r')\n",
    "#print(measurements)\n",
    "\n",
    "results =[]\n",
    "x = np.transpose(np.matrix([1,0,1,0])) #initial point\n",
    "P = np.eye(4)\n",
    "for meas in measurements:#,time_diff):\n",
    "    x, P = kalman_wiki(x, P, meas)\n",
    "    #print(x)\n",
    "    results.append(np.array(np.transpose(x))[0])\n",
    "kalman_x, kalman_y,vel_x,vel_y = zip(*results)\n",
    "print(results[-1:])\n",
    "plt.plot(kalman_x, kalman_y, color='g')\n",
    "plt.show()"
   ]
  },
  {
   "cell_type": "code",
   "execution_count": null,
   "metadata": {},
   "outputs": [],
   "source": []
  },
  {
   "cell_type": "code",
   "execution_count": null,
   "metadata": {
    "scrolled": true
   },
   "outputs": [],
   "source": []
  },
  {
   "cell_type": "markdown",
   "metadata": {},
   "source": [
    "# Implementing the Kalman filter by myself (row code)"
   ]
  },
  {
   "cell_type": "code",
   "execution_count": null,
   "metadata": {
    "scrolled": true
   },
   "outputs": [],
   "source": [
    "#plain kalman filter based on averaged samples only\n",
    "#set up initial conditions\n",
    "from numpy import ma\n",
    "x = np.matrix('0. 0. 0. 0.').T #location\n",
    "P = np.matrix(np.eye(4))*1000 # initial uncertainty\n",
    "\n",
    "result = []\n",
    "R = 0.01**2\n",
    "n_rows = np.sum(mask)\n",
    "observed_x = np.array(df_new['Latitude'])\n",
    "observed_y = np.array(df_new['Longitude'])\n",
    "#find missing values\n",
    "mask = df_new['ROT'].isnull()\n",
    "observed_x = ma.masked_array(observed_x, mask)\n",
    "observed_y = ma.masked_array(observed_y, mask)\n",
    "plt.plot(observed_x, observed_y, 'ro')\n",
    "#time_diff = np.zeros(n_rows)\n",
    "#time_diff[1:] = np.diff(df.loc[mask,'ReceivedTime'].apply(lambda x: x.timestamp()))\n",
    "for meas in zip(observed_x,observed_y):#,time_diff):\n",
    "    x, P = kalman_xy(x, P, meas, R)\n",
    "    result.append((x[:2]).tolist())\n",
    "kalman_x, kalman_y = zip(*result)\n",
    "plt.plot(kalman_x, kalman_y, 'g-')\n",
    "plt.show()"
   ]
  },
  {
   "cell_type": "code",
   "execution_count": null,
   "metadata": {},
   "outputs": [],
   "source": [
    "#let's add velocity to the model"
   ]
  },
  {
   "cell_type": "code",
   "execution_count": null,
   "metadata": {},
   "outputs": [],
   "source": []
  },
  {
   "cell_type": "code",
   "execution_count": null,
   "metadata": {},
   "outputs": [],
   "source": []
  },
  {
   "cell_type": "code",
   "execution_count": null,
   "metadata": {},
   "outputs": [],
   "source": []
  },
  {
   "cell_type": "code",
   "execution_count": null,
   "metadata": {},
   "outputs": [],
   "source": []
  },
  {
   "cell_type": "code",
   "execution_count": null,
   "metadata": {},
   "outputs": [],
   "source": []
  }
 ],
 "metadata": {
  "kernelspec": {
   "display_name": "Python 3",
   "language": "python",
   "name": "python3"
  },
  "language_info": {
   "codemirror_mode": {
    "name": "ipython",
    "version": 3
   },
   "file_extension": ".py",
   "mimetype": "text/x-python",
   "name": "python",
   "nbconvert_exporter": "python",
   "pygments_lexer": "ipython3",
   "version": "3.6.5"
  }
 },
 "nbformat": 4,
 "nbformat_minor": 2
}
