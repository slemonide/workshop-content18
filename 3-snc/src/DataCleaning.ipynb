{
 "cells": [
  {
   "cell_type": "code",
   "execution_count": 3,
   "metadata": {},
   "outputs": [],
   "source": [
    "import numpy as np\n",
    "import pandas as pd\n",
    "import matplotlib\n",
    "import geopandas as gpd\n",
    "import matplotlib.pyplot as plt\n",
    "import seaborn as sns\n",
    "import folium\n",
    "%matplotlib inline\n",
    "\n",
    "from os import path, getcwd\n",
    "from glob import glob\n",
    "import pykalman"
   ]
  },
  {
   "cell_type": "code",
   "execution_count": 4,
   "metadata": {},
   "outputs": [
    {
     "name": "stdout",
     "output_type": "stream",
     "text": [
      "PMV_AIS_NewWestminster_Current.txt\n",
      "PMV_AIS_Deltaport_Current.txt\n",
      "PMV_AIS_Deltaport_History.txt\n",
      "PMV_AIS_NewWestminster_History.txt\n"
     ]
    }
   ],
   "source": [
    "data_dir = '../data/workshop-content18/3-snc/data/'\n",
    "ais_pathnames = glob(data_dir + '*.txt')\n",
    "ais_basenames = [path.basename(pn) for pn in ais_pathnames]\n",
    "for bn in ais_basenames:\n",
    "    print(bn)"
   ]
  },
  {
   "cell_type": "code",
   "execution_count": 5,
   "metadata": {},
   "outputs": [],
   "source": [
    "delta_cur_basename = next(bn for bn in ais_basenames if 'Deltaport_Current' in bn)\n",
    "delta_his_basename = next(bn for bn in ais_basenames if 'Deltaport_History' in bn)"
   ]
  },
  {
   "cell_type": "code",
   "execution_count": 10,
   "metadata": {},
   "outputs": [
    {
     "name": "stderr",
     "output_type": "stream",
     "text": [
      "/opt/conda/lib/python3.6/site-packages/IPython/core/interactiveshell.py:2785: DtypeWarning: Columns (0) have mixed types. Specify dtype option on import or set low_memory=False.\n",
      "  interactivity=interactivity, compiler=compiler, result=result)\n"
     ]
    }
   ],
   "source": [
    "#max_rows=int(3e7)\n",
    "delta_cur = pd.read_csv(\n",
    "    data_dir + delta_cur_basename, sep='\\t',\n",
    "    parse_dates=['ReceivedTime'],usecols=['UserID','ROT','SOG','Longitude','Latitude',\n",
    "                                         'TrueHeading','ReceivedTime','TimeStamp'])"
   ]
  },
  {
   "cell_type": "code",
   "execution_count": 11,
   "metadata": {},
   "outputs": [
    {
     "data": {
      "text/html": [
       "<div>\n",
       "<style scoped>\n",
       "    .dataframe tbody tr th:only-of-type {\n",
       "        vertical-align: middle;\n",
       "    }\n",
       "\n",
       "    .dataframe tbody tr th {\n",
       "        vertical-align: top;\n",
       "    }\n",
       "\n",
       "    .dataframe thead th {\n",
       "        text-align: right;\n",
       "    }\n",
       "</style>\n",
       "<table border=\"1\" class=\"dataframe\">\n",
       "  <thead>\n",
       "    <tr style=\"text-align: right;\">\n",
       "      <th></th>\n",
       "      <th>UserID</th>\n",
       "      <th>ROT</th>\n",
       "      <th>SOG</th>\n",
       "      <th>Longitude</th>\n",
       "      <th>Latitude</th>\n",
       "      <th>TrueHeading</th>\n",
       "      <th>TimeStamp</th>\n",
       "      <th>ReceivedTime</th>\n",
       "    </tr>\n",
       "  </thead>\n",
       "  <tbody>\n",
       "    <tr>\n",
       "      <th>0</th>\n",
       "      <td>316005621</td>\n",
       "      <td>-127.0</td>\n",
       "      <td>0.1</td>\n",
       "      <td>-122.77156</td>\n",
       "      <td>49.23065</td>\n",
       "      <td>511.0</td>\n",
       "      <td>24.0</td>\n",
       "      <td>2013-10-22 01:05:24.510</td>\n",
       "    </tr>\n",
       "    <tr>\n",
       "      <th>1</th>\n",
       "      <td>316018851</td>\n",
       "      <td>0.0</td>\n",
       "      <td>1.7</td>\n",
       "      <td>-123.05445</td>\n",
       "      <td>49.29853</td>\n",
       "      <td>110.0</td>\n",
       "      <td>24.0</td>\n",
       "      <td>2013-10-22 01:05:25.400</td>\n",
       "    </tr>\n",
       "    <tr>\n",
       "      <th>2</th>\n",
       "      <td>316003679</td>\n",
       "      <td>-127.0</td>\n",
       "      <td>0.1</td>\n",
       "      <td>-123.10751</td>\n",
       "      <td>49.31308</td>\n",
       "      <td>511.0</td>\n",
       "      <td>24.0</td>\n",
       "      <td>2013-10-22 01:05:25.853</td>\n",
       "    </tr>\n",
       "    <tr>\n",
       "      <th>3</th>\n",
       "      <td>316014621</td>\n",
       "      <td>127.0</td>\n",
       "      <td>12.3</td>\n",
       "      <td>-123.09534</td>\n",
       "      <td>49.29940</td>\n",
       "      <td>210.0</td>\n",
       "      <td>26.0</td>\n",
       "      <td>2013-10-22 01:05:26.027</td>\n",
       "    </tr>\n",
       "    <tr>\n",
       "      <th>4</th>\n",
       "      <td>316005721</td>\n",
       "      <td>-127.0</td>\n",
       "      <td>0.1</td>\n",
       "      <td>-123.10684</td>\n",
       "      <td>49.31094</td>\n",
       "      <td>511.0</td>\n",
       "      <td>25.0</td>\n",
       "      <td>2013-10-22 01:05:26.620</td>\n",
       "    </tr>\n",
       "  </tbody>\n",
       "</table>\n",
       "</div>"
      ],
      "text/plain": [
       "      UserID    ROT   SOG  Longitude  Latitude  TrueHeading  TimeStamp  \\\n",
       "0  316005621 -127.0   0.1 -122.77156  49.23065        511.0       24.0   \n",
       "1  316018851    0.0   1.7 -123.05445  49.29853        110.0       24.0   \n",
       "2  316003679 -127.0   0.1 -123.10751  49.31308        511.0       24.0   \n",
       "3  316014621  127.0  12.3 -123.09534  49.29940        210.0       26.0   \n",
       "4  316005721 -127.0   0.1 -123.10684  49.31094        511.0       25.0   \n",
       "\n",
       "             ReceivedTime  \n",
       "0 2013-10-22 01:05:24.510  \n",
       "1 2013-10-22 01:05:25.400  \n",
       "2 2013-10-22 01:05:25.853  \n",
       "3 2013-10-22 01:05:26.027  \n",
       "4 2013-10-22 01:05:26.620  "
      ]
     },
     "execution_count": 11,
     "metadata": {},
     "output_type": "execute_result"
    }
   ],
   "source": [
    "delta_cur = delta_cur.dropna(axis=0)\n",
    "delta_cur.head()"
   ]
  },
  {
   "cell_type": "code",
   "execution_count": 12,
   "metadata": {},
   "outputs": [
    {
     "name": "stdout",
     "output_type": "stream",
     "text": [
      "# na: 0\n"
     ]
    }
   ],
   "source": [
    "if delta_cur.isna().iloc[-1,:].sum() > 10:\n",
    "    delta_cur = delta_cur.iloc[:-1, :]\n",
    "\n",
    "print('# na:', (delta_cur.isna().sum(axis=1) > 5).sum())"
   ]
  },
  {
   "cell_type": "code",
   "execution_count": 13,
   "metadata": {
    "scrolled": false
   },
   "outputs": [
    {
     "name": "stdout",
     "output_type": "stream",
     "text": [
      "<class 'pandas.core.frame.DataFrame'>\n",
      "Int64Index: 2560654 entries, 0 to 2560653\n",
      "Data columns (total 8 columns):\n",
      "UserID          object\n",
      "ROT             float64\n",
      "SOG             float64\n",
      "Longitude       float64\n",
      "Latitude        float64\n",
      "TrueHeading     float64\n",
      "TimeStamp       float64\n",
      "ReceivedTime    datetime64[ns]\n",
      "dtypes: datetime64[ns](1), float64(6), object(1)\n",
      "memory usage: 255.8+ MB\n"
     ]
    }
   ],
   "source": [
    "delta_cur.info()"
   ]
  },
  {
   "cell_type": "code",
   "execution_count": 14,
   "metadata": {},
   "outputs": [],
   "source": [
    "#extract only lat and lon needed\n",
    "mask = (delta_cur['Longitude']>-127)&(delta_cur['Longitude']<-120)\n",
    "mask = mask & (delta_cur['Latitude']>48)|(delta_cur['Latitude']<50)\n",
    "\n",
    "delta_cur = delta_cur[mask]"
   ]
  },
  {
   "cell_type": "code",
   "execution_count": 15,
   "metadata": {},
   "outputs": [
    {
     "data": {
      "text/html": [
       "<div>\n",
       "<style scoped>\n",
       "    .dataframe tbody tr th:only-of-type {\n",
       "        vertical-align: middle;\n",
       "    }\n",
       "\n",
       "    .dataframe tbody tr th {\n",
       "        vertical-align: top;\n",
       "    }\n",
       "\n",
       "    .dataframe thead th {\n",
       "        text-align: right;\n",
       "    }\n",
       "</style>\n",
       "<table border=\"1\" class=\"dataframe\">\n",
       "  <thead>\n",
       "    <tr style=\"text-align: right;\">\n",
       "      <th></th>\n",
       "      <th>UserID</th>\n",
       "      <th>ROT</th>\n",
       "      <th>SOG</th>\n",
       "      <th>Longitude</th>\n",
       "      <th>Latitude</th>\n",
       "      <th>TrueHeading</th>\n",
       "      <th>TimeStamp</th>\n",
       "      <th>ReceivedTime</th>\n",
       "    </tr>\n",
       "  </thead>\n",
       "  <tbody>\n",
       "    <tr>\n",
       "      <th>0</th>\n",
       "      <td>316005621</td>\n",
       "      <td>-127.0</td>\n",
       "      <td>0.1</td>\n",
       "      <td>-122.77156</td>\n",
       "      <td>49.23065</td>\n",
       "      <td>511.0</td>\n",
       "      <td>24.0</td>\n",
       "      <td>2013-10-22 01:05:24.510</td>\n",
       "    </tr>\n",
       "    <tr>\n",
       "      <th>1</th>\n",
       "      <td>316018851</td>\n",
       "      <td>0.0</td>\n",
       "      <td>1.7</td>\n",
       "      <td>-123.05445</td>\n",
       "      <td>49.29853</td>\n",
       "      <td>110.0</td>\n",
       "      <td>24.0</td>\n",
       "      <td>2013-10-22 01:05:25.400</td>\n",
       "    </tr>\n",
       "    <tr>\n",
       "      <th>2</th>\n",
       "      <td>316003679</td>\n",
       "      <td>-127.0</td>\n",
       "      <td>0.1</td>\n",
       "      <td>-123.10751</td>\n",
       "      <td>49.31308</td>\n",
       "      <td>511.0</td>\n",
       "      <td>24.0</td>\n",
       "      <td>2013-10-22 01:05:25.853</td>\n",
       "    </tr>\n",
       "    <tr>\n",
       "      <th>3</th>\n",
       "      <td>316014621</td>\n",
       "      <td>127.0</td>\n",
       "      <td>12.3</td>\n",
       "      <td>-123.09534</td>\n",
       "      <td>49.29940</td>\n",
       "      <td>210.0</td>\n",
       "      <td>26.0</td>\n",
       "      <td>2013-10-22 01:05:26.027</td>\n",
       "    </tr>\n",
       "    <tr>\n",
       "      <th>4</th>\n",
       "      <td>316005721</td>\n",
       "      <td>-127.0</td>\n",
       "      <td>0.1</td>\n",
       "      <td>-123.10684</td>\n",
       "      <td>49.31094</td>\n",
       "      <td>511.0</td>\n",
       "      <td>25.0</td>\n",
       "      <td>2013-10-22 01:05:26.620</td>\n",
       "    </tr>\n",
       "  </tbody>\n",
       "</table>\n",
       "</div>"
      ],
      "text/plain": [
       "      UserID    ROT   SOG  Longitude  Latitude  TrueHeading  TimeStamp  \\\n",
       "0  316005621 -127.0   0.1 -122.77156  49.23065        511.0       24.0   \n",
       "1  316018851    0.0   1.7 -123.05445  49.29853        110.0       24.0   \n",
       "2  316003679 -127.0   0.1 -123.10751  49.31308        511.0       24.0   \n",
       "3  316014621  127.0  12.3 -123.09534  49.29940        210.0       26.0   \n",
       "4  316005721 -127.0   0.1 -123.10684  49.31094        511.0       25.0   \n",
       "\n",
       "             ReceivedTime  \n",
       "0 2013-10-22 01:05:24.510  \n",
       "1 2013-10-22 01:05:25.400  \n",
       "2 2013-10-22 01:05:25.853  \n",
       "3 2013-10-22 01:05:26.027  \n",
       "4 2013-10-22 01:05:26.620  "
      ]
     },
     "execution_count": 15,
     "metadata": {},
     "output_type": "execute_result"
    }
   ],
   "source": [
    "delta_cur.head()"
   ]
  },
  {
   "cell_type": "code",
   "execution_count": 16,
   "metadata": {},
   "outputs": [
    {
     "data": {
      "text/plain": [
       "105.93208999999999"
      ]
     },
     "execution_count": 16,
     "metadata": {},
     "output_type": "execute_result"
    }
   ],
   "source": [
    "np.max(delta_cur['Longitude'])"
   ]
  },
  {
   "cell_type": "code",
   "execution_count": 17,
   "metadata": {},
   "outputs": [
    {
     "data": {
      "text/plain": [
       "(2502883, 8)"
      ]
     },
     "execution_count": 17,
     "metadata": {},
     "output_type": "execute_result"
    }
   ],
   "source": [
    "delta_cur.shape"
   ]
  },
  {
   "cell_type": "code",
   "execution_count": 18,
   "metadata": {},
   "outputs": [
    {
     "name": "stdout",
     "output_type": "stream",
     "text": [
      "num rows for which userid count <= 1000: 54122\n"
     ]
    }
   ],
   "source": [
    "nPoints_by_UserID = pd.value_counts(delta_cur.UserID)\n",
    "nPoints_threshold = 1000\n",
    "print('num rows for which userid count <= 1000:', nPoints_by_UserID.loc[nPoints_by_UserID <= 1000].values.sum())\n",
    "userID_allowed = nPoints_by_UserID.index[nPoints_by_UserID > nPoints_threshold]"
   ]
  },
  {
   "cell_type": "code",
   "execution_count": null,
   "metadata": {},
   "outputs": [],
   "source": []
  },
  {
   "cell_type": "code",
   "execution_count": 19,
   "metadata": {},
   "outputs": [],
   "source": [
    "delta_cur = delta_cur[delta_cur['UserID'].isin(list(userID_allowed))]"
   ]
  },
  {
   "cell_type": "code",
   "execution_count": 20,
   "metadata": {},
   "outputs": [
    {
     "data": {
      "text/plain": [
       "316005621"
      ]
     },
     "execution_count": 20,
     "metadata": {},
     "output_type": "execute_result"
    }
   ],
   "source": [
    "delta_cur.iloc[0,0]"
   ]
  },
  {
   "cell_type": "code",
   "execution_count": 21,
   "metadata": {},
   "outputs": [],
   "source": [
    "# As the first try, we choose one ship only\n",
    "UserID = delta_cur.iloc[0,0]"
   ]
  },
  {
   "cell_type": "code",
   "execution_count": 41,
   "metadata": {},
   "outputs": [],
   "source": [
    "df = delta_cur[delta_cur['UserID']==UserID]\n",
    "df = df.drop(['UserID'],axis=1)\n",
    "df['Date'] = df['ReceivedTime'].apply(lambda x: x.day)\n",
    "df = df.sort_values(by=['Date','TimeStamp','ReceivedTime']).reset_index(drop=True)"
   ]
  },
  {
   "cell_type": "code",
   "execution_count": null,
   "metadata": {},
   "outputs": [],
   "source": []
  },
  {
   "cell_type": "code",
   "execution_count": 42,
   "metadata": {
    "scrolled": false
   },
   "outputs": [
    {
     "name": "stdout",
     "output_type": "stream",
     "text": [
      "<class 'pandas.core.frame.DataFrame'>\n",
      "RangeIndex: 8807 entries, 0 to 8806\n",
      "Data columns (total 8 columns):\n",
      "ROT             8807 non-null float64\n",
      "SOG             8807 non-null float64\n",
      "Longitude       8807 non-null float64\n",
      "Latitude        8807 non-null float64\n",
      "TrueHeading     8807 non-null float64\n",
      "TimeStamp       8807 non-null float64\n",
      "ReceivedTime    8807 non-null datetime64[ns]\n",
      "Date            8807 non-null int64\n",
      "dtypes: datetime64[ns](1), float64(6), int64(1)\n",
      "memory usage: 550.5 KB\n"
     ]
    }
   ],
   "source": [
    "df.info()"
   ]
  },
  {
   "cell_type": "code",
   "execution_count": 43,
   "metadata": {
    "scrolled": false
   },
   "outputs": [
    {
     "data": {
      "text/html": [
       "<div>\n",
       "<style scoped>\n",
       "    .dataframe tbody tr th:only-of-type {\n",
       "        vertical-align: middle;\n",
       "    }\n",
       "\n",
       "    .dataframe tbody tr th {\n",
       "        vertical-align: top;\n",
       "    }\n",
       "\n",
       "    .dataframe thead th {\n",
       "        text-align: right;\n",
       "    }\n",
       "</style>\n",
       "<table border=\"1\" class=\"dataframe\">\n",
       "  <thead>\n",
       "    <tr style=\"text-align: right;\">\n",
       "      <th></th>\n",
       "      <th>ROT</th>\n",
       "      <th>SOG</th>\n",
       "      <th>Longitude</th>\n",
       "      <th>Latitude</th>\n",
       "      <th>TrueHeading</th>\n",
       "      <th>TimeStamp</th>\n",
       "      <th>ReceivedTime</th>\n",
       "      <th>Date</th>\n",
       "    </tr>\n",
       "  </thead>\n",
       "  <tbody>\n",
       "    <tr>\n",
       "      <th>0</th>\n",
       "      <td>-127.0</td>\n",
       "      <td>8.7</td>\n",
       "      <td>-123.07674</td>\n",
       "      <td>49.12093</td>\n",
       "      <td>511.0</td>\n",
       "      <td>3.0</td>\n",
       "      <td>2013-10-22 19:54:05.117</td>\n",
       "      <td>22</td>\n",
       "    </tr>\n",
       "    <tr>\n",
       "      <th>1</th>\n",
       "      <td>-127.0</td>\n",
       "      <td>8.8</td>\n",
       "      <td>-123.08287</td>\n",
       "      <td>49.11828</td>\n",
       "      <td>511.0</td>\n",
       "      <td>3.0</td>\n",
       "      <td>2013-10-22 19:56:05.383</td>\n",
       "      <td>22</td>\n",
       "    </tr>\n",
       "    <tr>\n",
       "      <th>2</th>\n",
       "      <td>-127.0</td>\n",
       "      <td>8.7</td>\n",
       "      <td>-123.08971</td>\n",
       "      <td>49.11638</td>\n",
       "      <td>511.0</td>\n",
       "      <td>3.0</td>\n",
       "      <td>2013-10-22 19:58:04.353</td>\n",
       "      <td>22</td>\n",
       "    </tr>\n",
       "    <tr>\n",
       "      <th>3</th>\n",
       "      <td>-127.0</td>\n",
       "      <td>0.1</td>\n",
       "      <td>-122.77136</td>\n",
       "      <td>49.23076</td>\n",
       "      <td>511.0</td>\n",
       "      <td>4.0</td>\n",
       "      <td>2013-10-22 01:14:05.237</td>\n",
       "      <td>22</td>\n",
       "    </tr>\n",
       "    <tr>\n",
       "      <th>4</th>\n",
       "      <td>-127.0</td>\n",
       "      <td>0.1</td>\n",
       "      <td>-122.77154</td>\n",
       "      <td>49.23061</td>\n",
       "      <td>511.0</td>\n",
       "      <td>4.0</td>\n",
       "      <td>2013-10-22 01:18:05.190</td>\n",
       "      <td>22</td>\n",
       "    </tr>\n",
       "  </tbody>\n",
       "</table>\n",
       "</div>"
      ],
      "text/plain": [
       "     ROT  SOG  Longitude  Latitude  TrueHeading  TimeStamp  \\\n",
       "0 -127.0  8.7 -123.07674  49.12093        511.0        3.0   \n",
       "1 -127.0  8.8 -123.08287  49.11828        511.0        3.0   \n",
       "2 -127.0  8.7 -123.08971  49.11638        511.0        3.0   \n",
       "3 -127.0  0.1 -122.77136  49.23076        511.0        4.0   \n",
       "4 -127.0  0.1 -122.77154  49.23061        511.0        4.0   \n",
       "\n",
       "             ReceivedTime  Date  \n",
       "0 2013-10-22 19:54:05.117    22  \n",
       "1 2013-10-22 19:56:05.383    22  \n",
       "2 2013-10-22 19:58:04.353    22  \n",
       "3 2013-10-22 01:14:05.237    22  \n",
       "4 2013-10-22 01:18:05.190    22  "
      ]
     },
     "execution_count": 43,
     "metadata": {},
     "output_type": "execute_result"
    }
   ],
   "source": [
    "df.head()"
   ]
  },
  {
   "cell_type": "code",
   "execution_count": 44,
   "metadata": {},
   "outputs": [],
   "source": [
    "#water = gpd.read_file('./british_columbia_coastline.shp')"
   ]
  },
  {
   "cell_type": "code",
   "execution_count": 45,
   "metadata": {},
   "outputs": [
    {
     "data": {
      "text/plain": [
       "(8807, 8)"
      ]
     },
     "execution_count": 45,
     "metadata": {},
     "output_type": "execute_result"
    }
   ],
   "source": [
    "df.shape"
   ]
  },
  {
   "cell_type": "code",
   "execution_count": 46,
   "metadata": {},
   "outputs": [
    {
     "data": {
      "text/plain": [
       "Timestamp('2013-10-31 23:30:32.597000')"
      ]
     },
     "execution_count": 46,
     "metadata": {},
     "output_type": "execute_result"
    }
   ],
   "source": [
    "np.max(df['ReceivedTime'])"
   ]
  },
  {
   "cell_type": "code",
   "execution_count": 47,
   "metadata": {},
   "outputs": [
    {
     "data": {
      "image/png": "[encoded data removed]",
      "text/plain": [
       "<matplotlib.figure.Figure at 0x7f5117794ba8>"
      ]
     },
     "metadata": {},
     "output_type": "display_data"
    }
   ],
   "source": [
    "plt.plot()\n",
    "timestamp_list =np.unique(df['Date'])\n",
    "for i in range(len(timestamp_list)):\n",
    "    mask = df['Date'] == timestamp_list[i]\n",
    "    plt.scatter(df.loc[mask,'Longitude'],df.loc[mask,'Latitude'])\n",
    "plt.show()"
   ]
  },
  {
   "cell_type": "code",
   "execution_count": 51,
   "metadata": {},
   "outputs": [
    {
     "data": {
      "text/html": [
       "<div>\n",
       "<style scoped>\n",
       "    .dataframe tbody tr th:only-of-type {\n",
       "        vertical-align: middle;\n",
       "    }\n",
       "\n",
       "    .dataframe tbody tr th {\n",
       "        vertical-align: top;\n",
       "    }\n",
       "\n",
       "    .dataframe thead th {\n",
       "        text-align: right;\n",
       "    }\n",
       "</style>\n",
       "<table border=\"1\" class=\"dataframe\">\n",
       "  <thead>\n",
       "    <tr style=\"text-align: right;\">\n",
       "      <th></th>\n",
       "      <th>ROT</th>\n",
       "      <th>SOG</th>\n",
       "      <th>Longitude</th>\n",
       "      <th>Latitude</th>\n",
       "      <th>TrueHeading</th>\n",
       "      <th>TimeStamp</th>\n",
       "      <th>ReceivedTime</th>\n",
       "      <th>Date</th>\n",
       "    </tr>\n",
       "  </thead>\n",
       "  <tbody>\n",
       "    <tr>\n",
       "      <th>5199</th>\n",
       "      <td>-127.0</td>\n",
       "      <td>9.7</td>\n",
       "      <td>-123.31161</td>\n",
       "      <td>49.17764</td>\n",
       "      <td>511.0</td>\n",
       "      <td>1.0</td>\n",
       "      <td>2013-10-25 06:16:01.983</td>\n",
       "      <td>25</td>\n",
       "    </tr>\n",
       "    <tr>\n",
       "      <th>5200</th>\n",
       "      <td>-127.0</td>\n",
       "      <td>8.7</td>\n",
       "      <td>-122.77347</td>\n",
       "      <td>49.22871</td>\n",
       "      <td>511.0</td>\n",
       "      <td>1.0</td>\n",
       "      <td>2013-10-25 11:13:02.773</td>\n",
       "      <td>25</td>\n",
       "    </tr>\n",
       "    <tr>\n",
       "      <th>5201</th>\n",
       "      <td>-127.0</td>\n",
       "      <td>5.9</td>\n",
       "      <td>-122.77166</td>\n",
       "      <td>49.23039</td>\n",
       "      <td>511.0</td>\n",
       "      <td>1.0</td>\n",
       "      <td>2013-10-25 11:14:01.950</td>\n",
       "      <td>25</td>\n",
       "    </tr>\n",
       "    <tr>\n",
       "      <th>5202</th>\n",
       "      <td>-127.0</td>\n",
       "      <td>0.4</td>\n",
       "      <td>-122.77143</td>\n",
       "      <td>49.23073</td>\n",
       "      <td>511.0</td>\n",
       "      <td>1.0</td>\n",
       "      <td>2013-10-25 11:15:01.933</td>\n",
       "      <td>25</td>\n",
       "    </tr>\n",
       "    <tr>\n",
       "      <th>5203</th>\n",
       "      <td>-127.0</td>\n",
       "      <td>0.0</td>\n",
       "      <td>-122.77142</td>\n",
       "      <td>49.23073</td>\n",
       "      <td>511.0</td>\n",
       "      <td>1.0</td>\n",
       "      <td>2013-10-25 11:19:01.997</td>\n",
       "      <td>25</td>\n",
       "    </tr>\n",
       "    <tr>\n",
       "      <th>5204</th>\n",
       "      <td>-127.0</td>\n",
       "      <td>0.0</td>\n",
       "      <td>-122.77145</td>\n",
       "      <td>49.23069</td>\n",
       "      <td>511.0</td>\n",
       "      <td>1.0</td>\n",
       "      <td>2013-10-25 11:29:02.053</td>\n",
       "      <td>25</td>\n",
       "    </tr>\n",
       "    <tr>\n",
       "      <th>5205</th>\n",
       "      <td>-127.0</td>\n",
       "      <td>0.0</td>\n",
       "      <td>-122.77130</td>\n",
       "      <td>49.23066</td>\n",
       "      <td>511.0</td>\n",
       "      <td>1.0</td>\n",
       "      <td>2013-10-25 13:29:01.990</td>\n",
       "      <td>25</td>\n",
       "    </tr>\n",
       "    <tr>\n",
       "      <th>5206</th>\n",
       "      <td>-127.0</td>\n",
       "      <td>0.0</td>\n",
       "      <td>-122.77150</td>\n",
       "      <td>49.23078</td>\n",
       "      <td>511.0</td>\n",
       "      <td>1.0</td>\n",
       "      <td>2013-10-25 13:32:03.990</td>\n",
       "      <td>25</td>\n",
       "    </tr>\n",
       "    <tr>\n",
       "      <th>5207</th>\n",
       "      <td>-127.0</td>\n",
       "      <td>0.0</td>\n",
       "      <td>-122.77144</td>\n",
       "      <td>49.23070</td>\n",
       "      <td>511.0</td>\n",
       "      <td>1.0</td>\n",
       "      <td>2013-10-25 14:38:01.920</td>\n",
       "      <td>25</td>\n",
       "    </tr>\n",
       "    <tr>\n",
       "      <th>5208</th>\n",
       "      <td>-127.0</td>\n",
       "      <td>0.0</td>\n",
       "      <td>-122.77148</td>\n",
       "      <td>49.23069</td>\n",
       "      <td>511.0</td>\n",
       "      <td>1.0</td>\n",
       "      <td>2013-10-25 16:44:01.890</td>\n",
       "      <td>25</td>\n",
       "    </tr>\n",
       "    <tr>\n",
       "      <th>5209</th>\n",
       "      <td>-127.0</td>\n",
       "      <td>0.0</td>\n",
       "      <td>-122.77142</td>\n",
       "      <td>49.23067</td>\n",
       "      <td>511.0</td>\n",
       "      <td>1.0</td>\n",
       "      <td>2013-10-25 16:45:01.877</td>\n",
       "      <td>25</td>\n",
       "    </tr>\n",
       "    <tr>\n",
       "      <th>5210</th>\n",
       "      <td>-127.0</td>\n",
       "      <td>0.0</td>\n",
       "      <td>-122.77144</td>\n",
       "      <td>49.23069</td>\n",
       "      <td>511.0</td>\n",
       "      <td>1.0</td>\n",
       "      <td>2013-10-25 18:35:02.120</td>\n",
       "      <td>25</td>\n",
       "    </tr>\n",
       "    <tr>\n",
       "      <th>5211</th>\n",
       "      <td>-127.0</td>\n",
       "      <td>0.0</td>\n",
       "      <td>-122.77145</td>\n",
       "      <td>49.23072</td>\n",
       "      <td>511.0</td>\n",
       "      <td>1.0</td>\n",
       "      <td>2013-10-25 20:53:01.960</td>\n",
       "      <td>25</td>\n",
       "    </tr>\n",
       "    <tr>\n",
       "      <th>5212</th>\n",
       "      <td>-127.0</td>\n",
       "      <td>0.0</td>\n",
       "      <td>-122.77147</td>\n",
       "      <td>49.23070</td>\n",
       "      <td>511.0</td>\n",
       "      <td>1.0</td>\n",
       "      <td>2013-10-25 23:54:01.963</td>\n",
       "      <td>25</td>\n",
       "    </tr>\n",
       "    <tr>\n",
       "      <th>5213</th>\n",
       "      <td>-127.0</td>\n",
       "      <td>0.0</td>\n",
       "      <td>-122.77145</td>\n",
       "      <td>49.23070</td>\n",
       "      <td>511.0</td>\n",
       "      <td>1.0</td>\n",
       "      <td>2013-10-25 23:55:01.933</td>\n",
       "      <td>25</td>\n",
       "    </tr>\n",
       "    <tr>\n",
       "      <th>5214</th>\n",
       "      <td>-127.0</td>\n",
       "      <td>11.7</td>\n",
       "      <td>-123.14670</td>\n",
       "      <td>49.20237</td>\n",
       "      <td>511.0</td>\n",
       "      <td>2.0</td>\n",
       "      <td>2013-10-25 00:46:03.423</td>\n",
       "      <td>25</td>\n",
       "    </tr>\n",
       "    <tr>\n",
       "      <th>5215</th>\n",
       "      <td>-127.0</td>\n",
       "      <td>8.8</td>\n",
       "      <td>-123.26494</td>\n",
       "      <td>49.25138</td>\n",
       "      <td>511.0</td>\n",
       "      <td>2.0</td>\n",
       "      <td>2013-10-25 05:37:03.130</td>\n",
       "      <td>25</td>\n",
       "    </tr>\n",
       "    <tr>\n",
       "      <th>5216</th>\n",
       "      <td>-127.0</td>\n",
       "      <td>8.8</td>\n",
       "      <td>-123.28475</td>\n",
       "      <td>49.25818</td>\n",
       "      <td>511.0</td>\n",
       "      <td>2.0</td>\n",
       "      <td>2013-10-25 05:45:02.273</td>\n",
       "      <td>25</td>\n",
       "    </tr>\n",
       "    <tr>\n",
       "      <th>5217</th>\n",
       "      <td>-127.0</td>\n",
       "      <td>10.0</td>\n",
       "      <td>-123.28642</td>\n",
       "      <td>49.25072</td>\n",
       "      <td>511.0</td>\n",
       "      <td>2.0</td>\n",
       "      <td>2013-10-25 05:48:02.277</td>\n",
       "      <td>25</td>\n",
       "    </tr>\n",
       "    <tr>\n",
       "      <th>5218</th>\n",
       "      <td>-127.0</td>\n",
       "      <td>10.2</td>\n",
       "      <td>-123.31650</td>\n",
       "      <td>49.14727</td>\n",
       "      <td>511.0</td>\n",
       "      <td>2.0</td>\n",
       "      <td>2013-10-25 06:27:03.040</td>\n",
       "      <td>25</td>\n",
       "    </tr>\n",
       "  </tbody>\n",
       "</table>\n",
       "</div>"
      ],
      "text/plain": [
       "        ROT   SOG  Longitude  Latitude  TrueHeading  TimeStamp  \\\n",
       "5199 -127.0   9.7 -123.31161  49.17764        511.0        1.0   \n",
       "5200 -127.0   8.7 -122.77347  49.22871        511.0        1.0   \n",
       "5201 -127.0   5.9 -122.77166  49.23039        511.0        1.0   \n",
       "5202 -127.0   0.4 -122.77143  49.23073        511.0        1.0   \n",
       "5203 -127.0   0.0 -122.77142  49.23073        511.0        1.0   \n",
       "5204 -127.0   0.0 -122.77145  49.23069        511.0        1.0   \n",
       "5205 -127.0   0.0 -122.77130  49.23066        511.0        1.0   \n",
       "5206 -127.0   0.0 -122.77150  49.23078        511.0        1.0   \n",
       "5207 -127.0   0.0 -122.77144  49.23070        511.0        1.0   \n",
       "5208 -127.0   0.0 -122.77148  49.23069        511.0        1.0   \n",
       "5209 -127.0   0.0 -122.77142  49.23067        511.0        1.0   \n",
       "5210 -127.0   0.0 -122.77144  49.23069        511.0        1.0   \n",
       "5211 -127.0   0.0 -122.77145  49.23072        511.0        1.0   \n",
       "5212 -127.0   0.0 -122.77147  49.23070        511.0        1.0   \n",
       "5213 -127.0   0.0 -122.77145  49.23070        511.0        1.0   \n",
       "5214 -127.0  11.7 -123.14670  49.20237        511.0        2.0   \n",
       "5215 -127.0   8.8 -123.26494  49.25138        511.0        2.0   \n",
       "5216 -127.0   8.8 -123.28475  49.25818        511.0        2.0   \n",
       "5217 -127.0  10.0 -123.28642  49.25072        511.0        2.0   \n",
       "5218 -127.0  10.2 -123.31650  49.14727        511.0        2.0   \n",
       "\n",
       "                ReceivedTime  Date  \n",
       "5199 2013-10-25 06:16:01.983    25  \n",
       "5200 2013-10-25 11:13:02.773    25  \n",
       "5201 2013-10-25 11:14:01.950    25  \n",
       "5202 2013-10-25 11:15:01.933    25  \n",
       "5203 2013-10-25 11:19:01.997    25  \n",
       "5204 2013-10-25 11:29:02.053    25  \n",
       "5205 2013-10-25 13:29:01.990    25  \n",
       "5206 2013-10-25 13:32:03.990    25  \n",
       "5207 2013-10-25 14:38:01.920    25  \n",
       "5208 2013-10-25 16:44:01.890    25  \n",
       "5209 2013-10-25 16:45:01.877    25  \n",
       "5210 2013-10-25 18:35:02.120    25  \n",
       "5211 2013-10-25 20:53:01.960    25  \n",
       "5212 2013-10-25 23:54:01.963    25  \n",
       "5213 2013-10-25 23:55:01.933    25  \n",
       "5214 2013-10-25 00:46:03.423    25  \n",
       "5215 2013-10-25 05:37:03.130    25  \n",
       "5216 2013-10-25 05:45:02.273    25  \n",
       "5217 2013-10-25 05:48:02.277    25  \n",
       "5218 2013-10-25 06:27:03.040    25  "
      ]
     },
     "execution_count": 51,
     "metadata": {},
     "output_type": "execute_result"
    }
   ],
   "source": [
    "df[df['Date']== 25].head(20)"
   ]
  },
  {
   "cell_type": "code",
   "execution_count": 52,
   "metadata": {},
   "outputs": [
    {
     "data": {
      "image/png": "[encoded data removed]",
      "text/plain": [
       "<matplotlib.figure.Figure at 0x7f51169edc50>"
      ]
     },
     "metadata": {},
     "output_type": "display_data"
    }
   ],
   "source": [
    "plt.plot()\n",
    "mask = df['Date'] == 24\n",
    "plt.scatter(df.loc[mask,'Longitude'],df.loc[mask,'Latitude'])\n",
    "plt.show()"
   ]
  },
  {
   "cell_type": "code",
   "execution_count": null,
   "metadata": {},
   "outputs": [],
   "source": []
  },
  {
   "cell_type": "code",
   "execution_count": null,
   "metadata": {},
   "outputs": [],
   "source": []
  },
  {
   "cell_type": "code",
   "execution_count": null,
   "metadata": {},
   "outputs": [],
   "source": []
  }
 ],
 "metadata": {
  "kernelspec": {
   "display_name": "Python 3",
   "language": "python",
   "name": "python3"
  },
  "language_info": {
   "codemirror_mode": {
    "name": "ipython",
    "version": 3
   },
   "file_extension": ".py",
   "mimetype": "text/x-python",
   "name": "python",
   "nbconvert_exporter": "python",
   "pygments_lexer": "ipython3",
   "version": "3.6.5"
  }
 },
 "nbformat": 4,
 "nbformat_minor": 2
}
