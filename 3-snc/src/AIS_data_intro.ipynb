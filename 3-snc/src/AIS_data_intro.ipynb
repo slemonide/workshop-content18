{
 "cells": [
  {
   "cell_type": "markdown",
   "metadata": {},
   "source": [
    "# Information"
   ]
  },
  {
   "cell_type": "markdown",
   "metadata": {},
   "source": [
    "## Column information\n",
    "\n",
    "* The vessel's Maritime Mobile Service Identity (MMSI) – a unique nine digit identification number.\n",
    "* Navigation status – \"at anchor\", \"under way using engine(s)\", \"not under command\", etc.\n",
    "* Rate of turn – right or left, from 0 to 720 degrees per minute\n",
    "* Speed over ground – 0.1-knot (0.19 km/h) resolution from 0 to 102 knots (189 km/h)\n",
    "* Positional accuracy:\n",
    "* Longitude – to 0.0001 minutes\n",
    "* Latitude – to 0.0001 minutes\n",
    "* Course over ground – relative to true north to 0.1°\n",
    "* True heading – 0 to 359 degrees (for example from a gyro compass)\n",
    "* True bearing at own position. 0 to 359 degrees\n",
    "* UTC Seconds – The seconds field of the UTC time when these data were generated. A complete timestamp is not present.\n",
    "\n",
    "\n",
    "In addition, the following data are broadcast every 6 minutes:\n",
    "\n",
    "* IMO ship identification number – a seven digit number that remains unchanged upon transfer of the ship's registration to another country\n",
    "* Radio call sign – international radio call sign, up to seven characters, assigned to the vessel by its country of registry\n",
    "* Name – 20 characters to represent the name of the vessel\n",
    "* Type of ship/cargo\n",
    "* Dimensions of ship – to nearest meter\n",
    "* Location of positioning system's (e.g., GPS) antenna on board the vessel - in meters aft of bow and meters port or starboard\n",
    "* Type of positioning system – such as GPS, DGPS or LORAN-C.\n",
    "* Draught of ship – 0.1 meter to 25.5 meters\n",
    "* Destination – max. 20 characters\n",
    "* ETA (estimated time of arrival) at destination – UTC month/date hour:minute\n",
    "* optional : high precision time request, a vessel can request other vessels provide a high precision UTC time and datestamp\n"
   ]
  },
  {
   "cell_type": "markdown",
   "metadata": {},
   "source": [
    "# Initialization"
   ]
  },
  {
   "cell_type": "code",
   "execution_count": 24,
   "metadata": {},
   "outputs": [],
   "source": [
    "import numpy as np\n",
    "import pandas as pd\n",
    "import matplotlib.pyplot as plt\n",
    "import seaborn as sns\n",
    "# import folium\n",
    "%matplotlib inline\n",
    "\n",
    "from os import path, getcwd\n",
    "from glob import glob"
   ]
  },
  {
   "cell_type": "code",
   "execution_count": 26,
   "metadata": {},
   "outputs": [],
   "source": [
    "code_dir = getcwd()\n",
    "data_dir = path.expanduser('~/data/workshop-content18/3-snc/data/')"
   ]
  },
  {
   "cell_type": "code",
   "execution_count": 28,
   "metadata": {},
   "outputs": [
    {
     "name": "stdout",
     "output_type": "stream",
     "text": [
      "PMV_AIS_NewWestminster_Current.txt\n",
      "PMV_AIS_Deltaport_Current.txt\n",
      "PMV_AIS_Deltaport_History.txt\n",
      "PMV_AIS_NewWestminster_History.txt\n"
     ]
    }
   ],
   "source": [
    "ais_pathnames = glob(data_dir + '*.txt')\n",
    "ais_basenames = [path.basename(pn) for pn in ais_pathnames]\n",
    "for bn in ais_basenames:\n",
    "    print(bn)"
   ]
  },
  {
   "cell_type": "code",
   "execution_count": 30,
   "metadata": {},
   "outputs": [
    {
     "name": "stdout",
     "output_type": "stream",
     "text": [
      "total 1443544\r\n",
      "-rw-rw-r--. 1 jovyan 1000 277236490 Jul 29  2015 PMV_AIS_Deltaport_Current.txt\r\n",
      "-rw-rw-r--. 1 jovyan 1000 246584377 Jul 29  2015 PMV_AIS_Deltaport_History.txt\r\n",
      "-rw-r--r--. 1 jovyan 1000 244538069 Apr 16 20:37 PMV_AIS_Files.zip\r\n",
      "-rw-rw-r--. 1 jovyan 1000 412480776 Jul 29  2015 PMV_AIS_NewWestminster_Current.txt\r\n",
      "-rw-rw-r--. 1 jovyan 1000 296033832 Jul 29  2015 PMV_AIS_NewWestminster_History.txt\r\n"
     ]
    }
   ],
   "source": [
    "!ls -l {data_dir}"
   ]
  },
  {
   "cell_type": "markdown",
   "metadata": {},
   "source": [
    "# Load data"
   ]
  },
  {
   "cell_type": "markdown",
   "metadata": {},
   "source": [
    "## Just load one for now"
   ]
  },
  {
   "cell_type": "markdown",
   "metadata": {},
   "source": [
    "First: can we even load a full file? "
   ]
  },
  {
   "cell_type": "code",
   "execution_count": 32,
   "metadata": {},
   "outputs": [],
   "source": [
    "delta_cur_basename = next(bn for bn in ais_basenames if 'Deltaport_Current' in bn)\n",
    "delta_his_basename = next(bn for bn in ais_basenames if 'Deltaport_History' in bn)"
   ]
  },
  {
   "cell_type": "code",
   "execution_count": 34,
   "metadata": {},
   "outputs": [],
   "source": [
    "max_rows=int(3e6)\n",
    "delta_cur = pd.read_csv(\n",
    "    data_dir + delta_cur_basename, sep='\\t', nrows=max_rows, low_memory=False,\n",
    "    parse_dates=['ReceivedTime'])"
   ]
  },
  {
   "cell_type": "markdown",
   "metadata": {},
   "source": [
    "The last row was missing (I think this is merely because there's an extra line break, but haven't looked too closely). Either way, we need to delete it because it doesn't belong. "
   ]
  },
  {
   "cell_type": "code",
   "execution_count": null,
   "metadata": {},
   "outputs": [],
   "source": [
    "if delta_cur.isna().iloc[-1,:].sum() > 10:\n",
    "    delta_cur = delta_cur.iloc[:-1, :]\n",
    "\n",
    "print('# na:', (delta_cur.isna().sum(axis=1) > 5).sum())"
   ]
  },
  {
   "cell_type": "markdown",
   "metadata": {},
   "source": [
    "...much better."
   ]
  },
  {
   "cell_type": "markdown",
   "metadata": {},
   "source": [
    "`UserID` should be categorical. Sometimes things don't play nicely with `pandas` categorical dtype, but seaborn does!"
   ]
  },
  {
   "cell_type": "code",
   "execution_count": null,
   "metadata": {},
   "outputs": [],
   "source": [
    "delta_cur.UserID = delta_cur.UserID.astype('category')"
   ]
  },
  {
   "cell_type": "code",
   "execution_count": null,
   "metadata": {
    "scrolled": true
   },
   "outputs": [],
   "source": [
    "delta_cur.shape"
   ]
  },
  {
   "cell_type": "markdown",
   "metadata": {},
   "source": [
    "There are just more than 2.5 M rows. Only 12 columns (see above for description)."
   ]
  },
  {
   "cell_type": "code",
   "execution_count": null,
   "metadata": {},
   "outputs": [],
   "source": [
    "def headsNorTails(dfs):\n",
    "    \"\"\"\n",
    "    cheekily named function for viewing the head and the tail of the data\n",
    "    \"\"\"\n",
    "    dfs = pd.concat((dfs.head(), dfs.tail()))\n",
    "    if isinstance(dfs, pd.Series):\n",
    "        dfs = dfs.to_frame()\n",
    "    return dfs"
   ]
  },
  {
   "cell_type": "code",
   "execution_count": 38,
   "metadata": {
    "scrolled": true
   },
   "outputs": [
    {
     "data": {
      "text/html": [
       "<div>\n",
       "<style scoped>\n",
       "    .dataframe tbody tr th:only-of-type {\n",
       "        vertical-align: middle;\n",
       "    }\n",
       "\n",
       "    .dataframe tbody tr th {\n",
       "        vertical-align: top;\n",
       "    }\n",
       "\n",
       "    .dataframe thead th {\n",
       "        text-align: right;\n",
       "    }\n",
       "</style>\n",
       "<table border=\"1\" class=\"dataframe\">\n",
       "  <thead>\n",
       "    <tr style=\"text-align: right;\">\n",
       "      <th></th>\n",
       "      <th>UserID</th>\n",
       "      <th>NavigationalStatus</th>\n",
       "      <th>ROT</th>\n",
       "      <th>SOG</th>\n",
       "      <th>PositionAccuracy</th>\n",
       "      <th>Longitude</th>\n",
       "      <th>Latitude</th>\n",
       "      <th>COG</th>\n",
       "      <th>TrueHeading</th>\n",
       "      <th>TimeStamp</th>\n",
       "      <th>ReceivedTime</th>\n",
       "      <th>rowid</th>\n",
       "    </tr>\n",
       "  </thead>\n",
       "  <tbody>\n",
       "    <tr>\n",
       "      <th>0</th>\n",
       "      <td>316005621</td>\n",
       "      <td>0.0</td>\n",
       "      <td>-127.0</td>\n",
       "      <td>0.1</td>\n",
       "      <td>0.0</td>\n",
       "      <td>-122.77156</td>\n",
       "      <td>49.23065</td>\n",
       "      <td>32.6</td>\n",
       "      <td>511.0</td>\n",
       "      <td>24.0</td>\n",
       "      <td>2013-10-22 01:05:24.510</td>\n",
       "      <td>311057489.0</td>\n",
       "    </tr>\n",
       "    <tr>\n",
       "      <th>1</th>\n",
       "      <td>316018851</td>\n",
       "      <td>0.0</td>\n",
       "      <td>0.0</td>\n",
       "      <td>1.7</td>\n",
       "      <td>0.0</td>\n",
       "      <td>-123.05445</td>\n",
       "      <td>49.29853</td>\n",
       "      <td>67.0</td>\n",
       "      <td>110.0</td>\n",
       "      <td>24.0</td>\n",
       "      <td>2013-10-22 01:05:25.400</td>\n",
       "      <td>311057490.0</td>\n",
       "    </tr>\n",
       "    <tr>\n",
       "      <th>2</th>\n",
       "      <td>316003679</td>\n",
       "      <td>2.0</td>\n",
       "      <td>-127.0</td>\n",
       "      <td>0.1</td>\n",
       "      <td>0.0</td>\n",
       "      <td>-123.10751</td>\n",
       "      <td>49.31308</td>\n",
       "      <td>150.8</td>\n",
       "      <td>511.0</td>\n",
       "      <td>24.0</td>\n",
       "      <td>2013-10-22 01:05:25.853</td>\n",
       "      <td>311057491.0</td>\n",
       "    </tr>\n",
       "    <tr>\n",
       "      <th>3</th>\n",
       "      <td>316014621</td>\n",
       "      <td>0.0</td>\n",
       "      <td>127.0</td>\n",
       "      <td>12.3</td>\n",
       "      <td>0.0</td>\n",
       "      <td>-123.09534</td>\n",
       "      <td>49.29940</td>\n",
       "      <td>210.7</td>\n",
       "      <td>210.0</td>\n",
       "      <td>26.0</td>\n",
       "      <td>2013-10-22 01:05:26.027</td>\n",
       "      <td>311057492.0</td>\n",
       "    </tr>\n",
       "    <tr>\n",
       "      <th>4</th>\n",
       "      <td>316005721</td>\n",
       "      <td>0.0</td>\n",
       "      <td>-127.0</td>\n",
       "      <td>0.1</td>\n",
       "      <td>0.0</td>\n",
       "      <td>-123.10684</td>\n",
       "      <td>49.31094</td>\n",
       "      <td>166.9</td>\n",
       "      <td>511.0</td>\n",
       "      <td>25.0</td>\n",
       "      <td>2013-10-22 01:05:26.620</td>\n",
       "      <td>311057493.0</td>\n",
       "    </tr>\n",
       "    <tr>\n",
       "      <th>2560650</th>\n",
       "      <td>477196500</td>\n",
       "      <td>1.0</td>\n",
       "      <td>0.0</td>\n",
       "      <td>0.0</td>\n",
       "      <td>1.0</td>\n",
       "      <td>-123.24473</td>\n",
       "      <td>48.79799</td>\n",
       "      <td>87.8</td>\n",
       "      <td>178.0</td>\n",
       "      <td>58.0</td>\n",
       "      <td>2013-10-31 23:59:59.180</td>\n",
       "      <td>313618139.0</td>\n",
       "    </tr>\n",
       "    <tr>\n",
       "      <th>2560651</th>\n",
       "      <td>316013198</td>\n",
       "      <td>0.0</td>\n",
       "      <td>-127.0</td>\n",
       "      <td>0.0</td>\n",
       "      <td>1.0</td>\n",
       "      <td>-123.05972</td>\n",
       "      <td>49.29088</td>\n",
       "      <td>5.1</td>\n",
       "      <td>511.0</td>\n",
       "      <td>59.0</td>\n",
       "      <td>2013-10-31 23:59:59.340</td>\n",
       "      <td>313618140.0</td>\n",
       "    </tr>\n",
       "    <tr>\n",
       "      <th>2560652</th>\n",
       "      <td>316020869</td>\n",
       "      <td>0.0</td>\n",
       "      <td>0.0</td>\n",
       "      <td>0.0</td>\n",
       "      <td>1.0</td>\n",
       "      <td>-123.10690</td>\n",
       "      <td>49.31069</td>\n",
       "      <td>34.3</td>\n",
       "      <td>4.0</td>\n",
       "      <td>58.0</td>\n",
       "      <td>2013-10-31 23:59:59.510</td>\n",
       "      <td>313618141.0</td>\n",
       "    </tr>\n",
       "    <tr>\n",
       "      <th>2560653</th>\n",
       "      <td>316003447</td>\n",
       "      <td>15.0</td>\n",
       "      <td>-127.0</td>\n",
       "      <td>0.0</td>\n",
       "      <td>0.0</td>\n",
       "      <td>-123.02956</td>\n",
       "      <td>49.29908</td>\n",
       "      <td>236.0</td>\n",
       "      <td>511.0</td>\n",
       "      <td>57.0</td>\n",
       "      <td>2013-10-31 23:59:59.650</td>\n",
       "      <td>313618142.0</td>\n",
       "    </tr>\n",
       "    <tr>\n",
       "      <th>2560654</th>\n",
       "      <td>\u001a</td>\n",
       "      <td>NaN</td>\n",
       "      <td>NaN</td>\n",
       "      <td>NaN</td>\n",
       "      <td>NaN</td>\n",
       "      <td>NaN</td>\n",
       "      <td>NaN</td>\n",
       "      <td>NaN</td>\n",
       "      <td>NaN</td>\n",
       "      <td>NaN</td>\n",
       "      <td>NaT</td>\n",
       "      <td>NaN</td>\n",
       "    </tr>\n",
       "  </tbody>\n",
       "</table>\n",
       "</div>"
      ],
      "text/plain": [
       "            UserID  NavigationalStatus    ROT   SOG  PositionAccuracy  \\\n",
       "0        316005621                 0.0 -127.0   0.1               0.0   \n",
       "1        316018851                 0.0    0.0   1.7               0.0   \n",
       "2        316003679                 2.0 -127.0   0.1               0.0   \n",
       "3        316014621                 0.0  127.0  12.3               0.0   \n",
       "4        316005721                 0.0 -127.0   0.1               0.0   \n",
       "2560650  477196500                 1.0    0.0   0.0               1.0   \n",
       "2560651  316013198                 0.0 -127.0   0.0               1.0   \n",
       "2560652  316020869                 0.0    0.0   0.0               1.0   \n",
       "2560653  316003447                15.0 -127.0   0.0               0.0   \n",
       "2560654          \u001a                 NaN    NaN   NaN               NaN   \n",
       "\n",
       "         Longitude  Latitude    COG  TrueHeading  TimeStamp  \\\n",
       "0       -122.77156  49.23065   32.6        511.0       24.0   \n",
       "1       -123.05445  49.29853   67.0        110.0       24.0   \n",
       "2       -123.10751  49.31308  150.8        511.0       24.0   \n",
       "3       -123.09534  49.29940  210.7        210.0       26.0   \n",
       "4       -123.10684  49.31094  166.9        511.0       25.0   \n",
       "2560650 -123.24473  48.79799   87.8        178.0       58.0   \n",
       "2560651 -123.05972  49.29088    5.1        511.0       59.0   \n",
       "2560652 -123.10690  49.31069   34.3          4.0       58.0   \n",
       "2560653 -123.02956  49.29908  236.0        511.0       57.0   \n",
       "2560654        NaN       NaN    NaN          NaN        NaN   \n",
       "\n",
       "                   ReceivedTime        rowid  \n",
       "0       2013-10-22 01:05:24.510  311057489.0  \n",
       "1       2013-10-22 01:05:25.400  311057490.0  \n",
       "2       2013-10-22 01:05:25.853  311057491.0  \n",
       "3       2013-10-22 01:05:26.027  311057492.0  \n",
       "4       2013-10-22 01:05:26.620  311057493.0  \n",
       "2560650 2013-10-31 23:59:59.180  313618139.0  \n",
       "2560651 2013-10-31 23:59:59.340  313618140.0  \n",
       "2560652 2013-10-31 23:59:59.510  313618141.0  \n",
       "2560653 2013-10-31 23:59:59.650  313618142.0  \n",
       "2560654                     NaT          NaN  "
      ]
     },
     "execution_count": 38,
     "metadata": {},
     "output_type": "execute_result"
    }
   ],
   "source": [
    "headsNorTails(delta_cur)"
   ]
  },
  {
   "cell_type": "markdown",
   "metadata": {},
   "source": [
    "But how many points per ship? "
   ]
  },
  {
   "cell_type": "code",
   "execution_count": null,
   "metadata": {},
   "outputs": [],
   "source": [
    "headsNorTails(pd.value_counts(delta_cur.UserID))"
   ]
  },
  {
   "cell_type": "markdown",
   "metadata": {},
   "source": [
    "Total number of rows corresponding to `UserID`s having fewer than 1000 data points:"
   ]
  },
  {
   "cell_type": "code",
   "execution_count": null,
   "metadata": {},
   "outputs": [],
   "source": [
    "UserID_ValueCounts = pd.value_counts(delta_cur.UserID)\n",
    "UserID_ValueCounts.loc[UserID_ValueCounts < 1000].values.sum()"
   ]
  },
  {
   "cell_type": "markdown",
   "metadata": {},
   "source": [
    "**Look at Lon-Lat values**"
   ]
  },
  {
   "cell_type": "code",
   "execution_count": null,
   "metadata": {},
   "outputs": [],
   "source": [
    "delta_cur.plot.scatter('Longitude', 'Latitude');"
   ]
  },
  {
   "cell_type": "markdown",
   "metadata": {},
   "source": [
    "There's this many points that are broadcasting from the North Pole:"
   ]
  },
  {
   "cell_type": "code",
   "execution_count": null,
   "metadata": {},
   "outputs": [],
   "source": [
    "(delta_cur.Latitude > 80).sum()"
   ]
  },
  {
   "cell_type": "markdown",
   "metadata": {},
   "source": [
    "Let's get rid of them because they don't belong in the Vancouver harbour — who knows what else is 'off' with them"
   ]
  },
  {
   "cell_type": "code",
   "execution_count": null,
   "metadata": {},
   "outputs": [],
   "source": [
    "delta_cur = delta_cur.loc[delta_cur.Latitude < 80]"
   ]
  },
  {
   "cell_type": "markdown",
   "metadata": {},
   "source": [
    "<div class=\"alert alert-block alert-info\">\n",
    "**Note:** get rid of `UserID`s that only appear once — I doubt we can do anything with these.\n",
    "</div>"
   ]
  },
  {
   "cell_type": "code",
   "execution_count": null,
   "metadata": {},
   "outputs": [],
   "source": [
    "nPoints_by_UserID = pd.value_counts(delta_cur.UserID)"
   ]
  },
  {
   "cell_type": "code",
   "execution_count": null,
   "metadata": {},
   "outputs": [],
   "source": [
    "nPoints_threshold = 1000\n",
    "print('num rows for which userid count <= 1000:', nPoints_by_UserID.loc[nPoints_by_UserID <= 1000].values.sum())\n",
    "userID_allowed = nPoints_by_UserID.index[nPoints_by_UserID > nPoints_threshold]"
   ]
  },
  {
   "cell_type": "code",
   "execution_count": null,
   "metadata": {},
   "outputs": [],
   "source": [
    "userID_allowed.values.remove_unused_categories(inplace=True)"
   ]
  },
  {
   "cell_type": "code",
   "execution_count": null,
   "metadata": {},
   "outputs": [],
   "source": [
    "delta_cur = delta_cur.loc[delta_cur.UserID.apply(lambda x: x in userID_allowed.values)]"
   ]
  },
  {
   "cell_type": "markdown",
   "metadata": {},
   "source": [
    "**Checking plot again**"
   ]
  },
  {
   "cell_type": "code",
   "execution_count": null,
   "metadata": {},
   "outputs": [],
   "source": [
    "delta_cur.plot.scatter('Longitude', 'Latitude');"
   ]
  },
  {
   "cell_type": "markdown",
   "metadata": {},
   "source": [
    "**Format dates**"
   ]
  },
  {
   "cell_type": "code",
   "execution_count": null,
   "metadata": {},
   "outputs": [],
   "source": [
    "ReceivedDate = delta_cur.ReceivedTime.dt.date\n",
    "ReceivedDate_ValueCounts = pd.value_counts(ReceivedDate)\n",
    "ReceivedDate_ValueCounts.to_frame()"
   ]
  },
  {
   "cell_type": "code",
   "execution_count": null,
   "metadata": {},
   "outputs": [],
   "source": [
    "delta_cur['ReceivedDay'] = ReceivedDate.apply(lambda x: x.day)"
   ]
  },
  {
   "cell_type": "markdown",
   "metadata": {},
   "source": [
    "Next we'd really like to know about the distributions of how many records are sent for each ship on each day. To do this, let's count the number of records on each ship on each day and then make a swarm plot / violin plot / box plot for each day where there are recording. We expect right-skew, and hope that the results suggest some kind of \"natural cut-off\" value - we can select all UserIDs with a sufficiently high number of records and maybe just work with those."
   ]
  },
  {
   "cell_type": "code",
   "execution_count": null,
   "metadata": {},
   "outputs": [],
   "source": [
    "sns.set(style=\"whitegrid\", color_codes=True)"
   ]
  },
  {
   "cell_type": "code",
   "execution_count": null,
   "metadata": {},
   "outputs": [],
   "source": [
    "df_grp = delta_cur.groupby(['ReceivedDay', 'UserID'])"
   ]
  },
  {
   "cell_type": "code",
   "execution_count": null,
   "metadata": {},
   "outputs": [],
   "source": [
    "sns.set(style='whitegrid', font_scale=2)\n",
    "plt.figure(figsize=(15, 5))\n",
    "ax = sns.swarmplot(\n",
    "    x='ReceivedDay', y='ROT', \n",
    "    data=df_grp['ROT'].count().reset_index())\n",
    "ax.set_xticklabels(ax.get_xticklabels(), rotation=30)\n",
    "ax.set_ylabel('Count of Records by UserID');"
   ]
  },
  {
   "cell_type": "markdown",
   "metadata": {},
   "source": [
    "Great. So for playing around, we could probably look at those UserIDs with only 1500 or more records. "
   ]
  },
  {
   "cell_type": "code",
   "execution_count": null,
   "metadata": {},
   "outputs": [],
   "source": [
    "# code to do that here:\n",
    "\n",
    "\n"
   ]
  },
  {
   "cell_type": "markdown",
   "metadata": {},
   "source": [
    "Let's plot records of ships just on the 22nd"
   ]
  },
  {
   "cell_type": "code",
   "execution_count": null,
   "metadata": {},
   "outputs": [],
   "source": [
    "delta_cur_22 = delta_cur.loc[delta_cur.ReceivedDay == 22, :]"
   ]
  },
  {
   "cell_type": "code",
   "execution_count": null,
   "metadata": {},
   "outputs": [],
   "source": [
    "sns.lmplot('Longitude', 'Latitude', hue='UserID', \n",
    "           data=delta_cur_22, legend=False, fit_reg=False,\n",
    "           size=7, aspect=1.7, scatter_kws={'alpha':.3});"
   ]
  },
  {
   "cell_type": "markdown",
   "metadata": {},
   "source": [
    "Great. After some playing around with axis limits, we can finally see some ship trajectories. There are so many unique ship IDs that I chose not to include a legend. Also, there are some ships with erroneous Lon-Lat readings, which I believe were the cause for me having to play around with the axis limits. "
   ]
  },
  {
   "cell_type": "markdown",
   "metadata": {},
   "source": [
    "# To-Do:\n",
    "\n",
    "* Subset the dataframe to remove any points that have Lon-Lat readings outside of (-127, -120) x (48, 50)\n",
    "    * (Write code for this and upload it to the repository. We'll eventually have to port this approach to the other data.)\n",
    "* Subset the dataframe to remove any UserIDs that have fewer than 1000 records\n",
    "    * (Write code for this and upload it to the repository. We'll eventually have to port this approach to the other data.)\n",
    "* Group the data by day and for each subgroup, remove any UserIDs that have fewer than ¿10? records\n",
    "    * (Write code for this and upload it to the repository. We'll eventually have to port this approach to the other data.)\n",
    "* Make a scatter plot for each day there is recorded data (cf. seaborn.FacetGrid or seaborn.FacetPlot or whatever it is)\n",
    "    * Make a plot for each day with a **line** for each ship (instead of dots for each ship)\n",
    "    * Add arrows at each (lon, lat) point denoting the ships heading (see the top of this document for a description pointing you to the relevant column)\n",
    "    * Save the plot(s) you've made and upload them as pngs to the repository. \n",
    "* See if you can find out how to turn the ship's trajectory into a Bezier curve. I've not really played around with Bezier curves, but I know that they could be a useful tool for one possible solution for this project. Basically, each ship trajectory can be represented as an object called a \"Bezier curve\", all of which can be parametrized by a fixed number of values. This let's us compare ship trajectories by comparing parameter values for the Bezier curves. [This site](http://devmag.org.za/2011/06/23/bzier-path-algorithms/) looks like a great introduction to the idea. \n",
    "    * If you have code or images (or better references!) for this, upload it in any format to the repository. We'll need it for the other data / and/or the participants will need to know how to modify the approach to work with the other crazy ideas I have :D"
   ]
  },
  {
   "cell_type": "code",
   "execution_count": 36,
   "metadata": {},
   "outputs": [
    {
     "data": {
      "text/html": [
       "<div>\n",
       "<style scoped>\n",
       "    .dataframe tbody tr th:only-of-type {\n",
       "        vertical-align: middle;\n",
       "    }\n",
       "\n",
       "    .dataframe tbody tr th {\n",
       "        vertical-align: top;\n",
       "    }\n",
       "\n",
       "    .dataframe thead th {\n",
       "        text-align: right;\n",
       "    }\n",
       "</style>\n",
       "<table border=\"1\" class=\"dataframe\">\n",
       "  <thead>\n",
       "    <tr style=\"text-align: right;\">\n",
       "      <th></th>\n",
       "      <th>UserID</th>\n",
       "      <th>NavigationalStatus</th>\n",
       "      <th>ROT</th>\n",
       "      <th>SOG</th>\n",
       "      <th>PositionAccuracy</th>\n",
       "      <th>Longitude</th>\n",
       "      <th>Latitude</th>\n",
       "      <th>COG</th>\n",
       "      <th>TrueHeading</th>\n",
       "      <th>TimeStamp</th>\n",
       "      <th>ReceivedTime</th>\n",
       "      <th>rowid</th>\n",
       "    </tr>\n",
       "  </thead>\n",
       "  <tbody>\n",
       "    <tr>\n",
       "      <th>0</th>\n",
       "      <td>316005621</td>\n",
       "      <td>0.0</td>\n",
       "      <td>-127.0</td>\n",
       "      <td>0.1</td>\n",
       "      <td>0.0</td>\n",
       "      <td>-122.77156</td>\n",
       "      <td>49.23065</td>\n",
       "      <td>32.6</td>\n",
       "      <td>511.0</td>\n",
       "      <td>24.0</td>\n",
       "      <td>2013-10-22 01:05:24.510</td>\n",
       "      <td>311057489.0</td>\n",
       "    </tr>\n",
       "    <tr>\n",
       "      <th>1</th>\n",
       "      <td>316018851</td>\n",
       "      <td>0.0</td>\n",
       "      <td>0.0</td>\n",
       "      <td>1.7</td>\n",
       "      <td>0.0</td>\n",
       "      <td>-123.05445</td>\n",
       "      <td>49.29853</td>\n",
       "      <td>67.0</td>\n",
       "      <td>110.0</td>\n",
       "      <td>24.0</td>\n",
       "      <td>2013-10-22 01:05:25.400</td>\n",
       "      <td>311057490.0</td>\n",
       "    </tr>\n",
       "    <tr>\n",
       "      <th>2</th>\n",
       "      <td>316003679</td>\n",
       "      <td>2.0</td>\n",
       "      <td>-127.0</td>\n",
       "      <td>0.1</td>\n",
       "      <td>0.0</td>\n",
       "      <td>-123.10751</td>\n",
       "      <td>49.31308</td>\n",
       "      <td>150.8</td>\n",
       "      <td>511.0</td>\n",
       "      <td>24.0</td>\n",
       "      <td>2013-10-22 01:05:25.853</td>\n",
       "      <td>311057491.0</td>\n",
       "    </tr>\n",
       "    <tr>\n",
       "      <th>3</th>\n",
       "      <td>316014621</td>\n",
       "      <td>0.0</td>\n",
       "      <td>127.0</td>\n",
       "      <td>12.3</td>\n",
       "      <td>0.0</td>\n",
       "      <td>-123.09534</td>\n",
       "      <td>49.29940</td>\n",
       "      <td>210.7</td>\n",
       "      <td>210.0</td>\n",
       "      <td>26.0</td>\n",
       "      <td>2013-10-22 01:05:26.027</td>\n",
       "      <td>311057492.0</td>\n",
       "    </tr>\n",
       "    <tr>\n",
       "      <th>4</th>\n",
       "      <td>316005721</td>\n",
       "      <td>0.0</td>\n",
       "      <td>-127.0</td>\n",
       "      <td>0.1</td>\n",
       "      <td>0.0</td>\n",
       "      <td>-123.10684</td>\n",
       "      <td>49.31094</td>\n",
       "      <td>166.9</td>\n",
       "      <td>511.0</td>\n",
       "      <td>25.0</td>\n",
       "      <td>2013-10-22 01:05:26.620</td>\n",
       "      <td>311057493.0</td>\n",
       "    </tr>\n",
       "  </tbody>\n",
       "</table>\n",
       "</div>"
      ],
      "text/plain": [
       "      UserID  NavigationalStatus    ROT   SOG  PositionAccuracy  Longitude  \\\n",
       "0  316005621                 0.0 -127.0   0.1               0.0 -122.77156   \n",
       "1  316018851                 0.0    0.0   1.7               0.0 -123.05445   \n",
       "2  316003679                 2.0 -127.0   0.1               0.0 -123.10751   \n",
       "3  316014621                 0.0  127.0  12.3               0.0 -123.09534   \n",
       "4  316005721                 0.0 -127.0   0.1               0.0 -123.10684   \n",
       "\n",
       "   Latitude    COG  TrueHeading  TimeStamp            ReceivedTime  \\\n",
       "0  49.23065   32.6        511.0       24.0 2013-10-22 01:05:24.510   \n",
       "1  49.29853   67.0        110.0       24.0 2013-10-22 01:05:25.400   \n",
       "2  49.31308  150.8        511.0       24.0 2013-10-22 01:05:25.853   \n",
       "3  49.29940  210.7        210.0       26.0 2013-10-22 01:05:26.027   \n",
       "4  49.31094  166.9        511.0       25.0 2013-10-22 01:05:26.620   \n",
       "\n",
       "         rowid  \n",
       "0  311057489.0  \n",
       "1  311057490.0  \n",
       "2  311057491.0  \n",
       "3  311057492.0  \n",
       "4  311057493.0  "
      ]
     },
     "execution_count": 36,
     "metadata": {},
     "output_type": "execute_result"
    }
   ],
   "source": [
    "delta_cur.head()\n"
   ]
  },
  {
   "cell_type": "code",
   "execution_count": 37,
   "metadata": {},
   "outputs": [
    {
     "data": {
      "image/png": "[encoded data removed]",
      "text/plain": [
       "<matplotlib.figure.Figure at 0x7fb7f07df908>"
      ]
     },
     "metadata": {},
     "output_type": "display_data"
    }
   ],
   "source": [
    "delta_cur.plot.scatter('Longitude', 'Latitude');"
   ]
  },
  {
   "cell_type": "markdown",
   "metadata": {},
   "source": [
    "# On a map"
   ]
  },
  {
   "cell_type": "markdown",
   "metadata": {},
   "source": [
    "Let's take that data above - just the smaller manageable bit - and plot it on a map using `folium` Markers."
   ]
  },
  {
   "cell_type": "code",
   "execution_count": null,
   "metadata": {},
   "outputs": [],
   "source": [
    "UserID_22_vc = pd.value_counts(delta_cur_22.UserID)\n",
    "delta_22_316020869 = (delta_cur_22\n",
    "                      .loc[delta_cur_22.UserID == UserID_22_vc.index[0]])"
   ]
  },
  {
   "cell_type": "code",
   "execution_count": null,
   "metadata": {},
   "outputs": [],
   "source": [
    "delta_22_316020869.plot.scatter('Longitude', 'Latitude');"
   ]
  },
  {
   "cell_type": "code",
   "execution_count": null,
   "metadata": {},
   "outputs": [],
   "source": [
    "delta_22_316020869_sparse = (delta_22_316020869\n",
    "                             .reset_index(drop=True)\n",
    "                             .iloc[::10, :]\n",
    "                             .reset_index(drop=True))"
   ]
  },
  {
   "cell_type": "code",
   "execution_count": null,
   "metadata": {
    "code_folding": []
   },
   "outputs": [],
   "source": [
    "m = folium.Map(location=[49, -123.7], \n",
    "               tiles='Stamen Terrain', zoom_start=9)\n",
    "latlon = zip(delta_22_316020869_sparse.Latitude.values, \n",
    "             delta_22_316020869_sparse.Longitude.values)\n",
    "for coord in latlon:\n",
    "    folium.Circle(location=coord, fill=True).add_to(m)"
   ]
  },
  {
   "cell_type": "code",
   "execution_count": null,
   "metadata": {},
   "outputs": [],
   "source": [
    "m"
   ]
  }
 ],
 "metadata": {
  "kernelspec": {
   "display_name": "Python 3",
   "language": "python",
   "name": "python3"
  },
  "language_info": {
   "codemirror_mode": {
    "name": "ipython",
    "version": 3
   },
   "file_extension": ".py",
   "mimetype": "text/x-python",
   "name": "python",
   "nbconvert_exporter": "python",
   "pygments_lexer": "ipython3",
   "version": "3.6.5"
  },
  "toc": {
   "base_numbering": 1,
   "nav_menu": {
    "height": "100px",
    "width": "252px"
   },
   "number_sections": true,
   "sideBar": true,
   "skip_h1_title": false,
   "title_cell": "Table of Contents",
   "title_sidebar": "Contents",
   "toc_cell": false,
   "toc_position": {},
   "toc_section_display": "block",
   "toc_window_display": false
  }
 },
 "nbformat": 4,
 "nbformat_minor": 2
}
