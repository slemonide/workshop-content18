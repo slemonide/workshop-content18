{
 "cells": [
  {
   "cell_type": "markdown",
   "metadata": {},
   "source": [
    "# Set Up"
   ]
  },
  {
   "cell_type": "code",
   "execution_count": null,
   "metadata": {},
   "outputs": [],
   "source": [
    "import numpy as np\n",
    "import pandas as pd\n",
    "import matplotlib.pyplot as plt\n",
    "import matplotlib as mpl\n",
    "import seaborn as sns\n",
    "import folium\n",
    "import random\n",
    "import math\n",
    "%matplotlib inline\n",
    "\n",
    "from os import path, getcwd\n",
    "from glob import glob\n",
    "\n",
    "code_dir = getcwd()\n",
    "data_dir = path.expanduser('~/data/workshop-content18/3-snc/data/')\n",
    "\n",
    "ais_pathnames = glob(data_dir + '*.txt')\n",
    "ais_basenames = [path.basename(pn) for pn in ais_pathnames]\n",
    "\n",
    "delta_cur_basename = next(bn for bn in ais_basenames if 'Deltaport_Current' in bn)\n",
    "delta_his_basename = next(bn for bn in ais_basenames if 'Deltaport_History' in bn)\n",
    "\n",
    "max_rows=int(3e6)\n",
    "delta_cur = pd.read_csv(\n",
    "    data_dir + delta_cur_basename, sep='\\t', nrows=max_rows, low_memory=False,\n",
    "    parse_dates=['ReceivedTime'])"
   ]
  },
  {
   "cell_type": "code",
   "execution_count": null,
   "metadata": {},
   "outputs": [],
   "source": [
    "if delta_cur.isna().iloc[-1,:].sum() > 10:\n",
    "    delta_cur = delta_cur.iloc[:-1, :]"
   ]
  },
  {
   "cell_type": "code",
   "execution_count": null,
   "metadata": {},
   "outputs": [],
   "source": [
    "delta_cur.UserID = delta_cur.UserID.astype('category')"
   ]
  },
  {
   "cell_type": "code",
   "execution_count": null,
   "metadata": {},
   "outputs": [],
   "source": [
    "delta_cur = delta_cur.loc[delta_cur.Latitude < 80]"
   ]
  },
  {
   "cell_type": "code",
   "execution_count": null,
   "metadata": {},
   "outputs": [],
   "source": [
    "nPoints_by_UserID = pd.value_counts(delta_cur.UserID)"
   ]
  },
  {
   "cell_type": "code",
   "execution_count": null,
   "metadata": {},
   "outputs": [],
   "source": [
    "nPoints_threshold = 1000\n",
    "userID_allowed = nPoints_by_UserID.index[nPoints_by_UserID > nPoints_threshold]\n",
    "userID_allowed.values.remove_unused_categories(inplace=True)"
   ]
  },
  {
   "cell_type": "code",
   "execution_count": null,
   "metadata": {},
   "outputs": [],
   "source": [
    "delta_cur = delta_cur.loc[delta_cur.UserID.apply(lambda x: x in userID_allowed.values)]"
   ]
  },
  {
   "cell_type": "code",
   "execution_count": null,
   "metadata": {},
   "outputs": [],
   "source": [
    "ReceivedDate = delta_cur.ReceivedTime.dt.date\n",
    "ReceivedDate_ValueCounts = pd.value_counts(ReceivedDate)\n",
    "ReceivedDate_ValueCounts.to_frame()"
   ]
  },
  {
   "cell_type": "code",
   "execution_count": null,
   "metadata": {},
   "outputs": [],
   "source": [
    "delta_cur['ReceivedDay'] = ReceivedDate.apply(lambda x: x.day)"
   ]
  },
  {
   "cell_type": "code",
   "execution_count": null,
   "metadata": {},
   "outputs": [],
   "source": [
    "sns.set(style=\"whitegrid\", color_codes=True)"
   ]
  },
  {
   "cell_type": "code",
   "execution_count": null,
   "metadata": {},
   "outputs": [],
   "source": [
    "df_grp = delta_cur.groupby(['ReceivedDay', 'UserID'])"
   ]
  },
  {
   "cell_type": "markdown",
   "metadata": {},
   "source": [
    "Let's plot records of ships just on the 22nd"
   ]
  },
  {
   "cell_type": "code",
   "execution_count": null,
   "metadata": {},
   "outputs": [],
   "source": [
    "delta_cur_22 = delta_cur.loc[delta_cur.ReceivedDay == 22, :]"
   ]
  },
  {
   "cell_type": "markdown",
   "metadata": {},
   "source": [
    "# One Ship"
   ]
  },
  {
   "cell_type": "code",
   "execution_count": null,
   "metadata": {
    "scrolled": false
   },
   "outputs": [],
   "source": [
    "UserID_vc = pd.value_counts(delta_cur.UserID)\n",
    "#i = random.randint(1,int(UserID_vc.size)) # 117\n",
    "i = 72 # 112 #95 # 59\n",
    "ship = (delta_cur.loc[delta_cur.UserID == UserID_vc.index[i]])\n",
    "\n",
    "xedges = np.load('xedges.dat')\n",
    "yedges = np.load('yedges.dat')\n",
    "H = np.load('FS.dat') # feasible set\n",
    "\n",
    "x = list(ship.Longitude)\n",
    "y = list(ship.Latitude)\n",
    "\n",
    "fig = plt.figure(figsize=(15, 15), dpi= 80, facecolor='w', edgecolor='k')\n",
    "ax = fig.add_subplot(111, xlabel=\"Longitude\", ylabel=\"Latitude\", title=\"Feasible Set Of Ships\")\n",
    "plt.imshow(H, interpolation='nearest', origin='low',\n",
    "           extent=[xedges[0], xedges[-1], yedges[0], yedges[-1]],\n",
    "           cmap=mpl.cm.Blues)\n",
    "\n",
    "plt.scatter(x,y, marker='.', color='r', s=5)"
   ]
  },
  {
   "cell_type": "code",
   "execution_count": null,
   "metadata": {},
   "outputs": [],
   "source": [
    "ps = list(zip(x,y)) # all points\n",
    "butfirst = ps[1:] # all points but first\n",
    "butlast = ps[:-1] # all points but last\n",
    "lines = list(zip(butlast,butfirst)) # all directed line segments (ship goes from point one to point two)"
   ]
  },
  {
   "cell_type": "code",
   "execution_count": null,
   "metadata": {},
   "outputs": [],
   "source": [
    "def length(line):\n",
    "    return math.sqrt((line[1][0] - line[0][0]) ** 2 + (line[1][0] - line[0][0]) ** 2)\n"
   ]
  },
  {
   "cell_type": "code",
   "execution_count": null,
   "metadata": {},
   "outputs": [],
   "source": [
    "plt.figure(figsize=(15, 5), dpi= 80, facecolor='w', edgecolor='k')\n",
    "plt.plot([length(x) for x in lines])\n",
    "plt.ylabel('length (distance units)')\n",
    "plt.xlabel('Line interval number')\n",
    "plt.title('Length of line intervals')"
   ]
  },
  {
   "cell_type": "markdown",
   "metadata": {},
   "source": [
    "# Improving Path"
   ]
  },
  {
   "cell_type": "code",
   "execution_count": null,
   "metadata": {},
   "outputs": [],
   "source": [
    "MAX_LINE_LENGTH = 0.001\n",
    "\n",
    "# Line -> [Line]\n",
    "def generateLines(line):\n",
    "    if length(line) < MAX_LINE_LENGTH:\n",
    "        return [line]\n",
    "    else:\n",
    "        center = ((line[1][0] + line[0][0])/2, (line[1][1] + line[0][1])/2)\n",
    "        \n",
    "        line1 = (line[0], center)\n",
    "        line2 = (center, line[1])\n",
    "        \n",
    "        out = []\n",
    "        out.extend(generateLines(line1))\n",
    "        out.extend(generateLines(line2))\n",
    "        return out\n",
    "\n",
    "lines_improved = []\n",
    "for line in lines:\n",
    "    if length(line) > MAX_LINE_LENGTH:\n",
    "        lines_improved.extend(generateLines(line)) # replace line by a sequence of line segments\n",
    "    else:\n",
    "        lines_improved.append(line)"
   ]
  },
  {
   "cell_type": "code",
   "execution_count": null,
   "metadata": {},
   "outputs": [],
   "source": [
    "print(len(lines), len(lines_improved))"
   ]
  },
  {
   "cell_type": "code",
   "execution_count": null,
   "metadata": {},
   "outputs": [],
   "source": [
    "plt.figure(figsize=(15, 5), dpi= 80, facecolor='w', edgecolor='k')\n",
    "plt.plot([length(x) for x in lines_improved])\n",
    "plt.ylabel('length (distance units)')\n",
    "plt.xlabel('Line interval number')\n",
    "plt.title('Length of Improved Line Intervals')"
   ]
  },
  {
   "cell_type": "code",
   "execution_count": null,
   "metadata": {},
   "outputs": [],
   "source": [
    "points_x2 = list(zip(*lines_improved))\n",
    "points = points_x2[0]\n",
    "l = list(zip(*points))\n",
    "x = l[0]\n",
    "y = l[1]"
   ]
  },
  {
   "cell_type": "code",
   "execution_count": null,
   "metadata": {},
   "outputs": [],
   "source": [
    "fig = plt.figure(figsize=(15, 15), dpi= 80, facecolor='w', edgecolor='k')\n",
    "ax = fig.add_subplot(111, xlabel=\"Longitude\", ylabel=\"Latitude\", title=\"Feasible Set Of Ships\")\n",
    "plt.imshow(H, interpolation='nearest', origin='low',\n",
    "           extent=[xedges[0], xedges[-1], yedges[0], yedges[-1]],\n",
    "           cmap=mpl.cm.Blues)\n",
    "\n",
    "plt.scatter(x,y, marker='.', color='r', s=2)"
   ]
  },
  {
   "cell_type": "markdown",
   "metadata": {},
   "source": [
    "# Better Path Estimation: Project Onto Feasible Set"
   ]
  },
  {
   "cell_type": "code",
   "execution_count": null,
   "metadata": {},
   "outputs": [],
   "source": [
    "random.random() - 0.5"
   ]
  },
  {
   "cell_type": "code",
   "execution_count": null,
   "metadata": {},
   "outputs": [],
   "source": [
    "MAX_LINE_LENGTH = 0.001\n",
    "\n",
    "##### Code:\n",
    "FS = H\n",
    "STEP = 0.01\n",
    "\n",
    "NUM = 1000\n",
    "\n",
    "START_X = -124\n",
    "END_X = -122\n",
    "\n",
    "START_Y = 48.2\n",
    "END_Y = 49.7\n",
    "\n",
    "dx = (END_X - START_X)/NUM\n",
    "dy = (END_Y - START_Y)/NUM\n",
    "\n",
    "# Point -> (Int, Int) or False\n",
    "# get i,j indices in the feasible set from coordinates\n",
    "def getIJ(point):\n",
    "    if point[0] < START_X or point[0] > END_X:\n",
    "        return False\n",
    "    if point[1] < START_Y or point[1] > END_Y:\n",
    "        return False\n",
    "    \n",
    "    return (int((point[0] - START_X)/dx), int((point[1] - START_Y)/dy))\n",
    "\n",
    "# Point -> Boolean\n",
    "# produce true if point is in the feasible set\n",
    "def isFeasible(point):\n",
    "    result = getIJ(point)\n",
    "    if result:\n",
    "        return 1 == FS[result[0], result[1]]\n",
    "    else:\n",
    "        return False\n",
    "\n",
    "# Point -> Point\n",
    "# Project center onto a feasible set using provided line\n",
    "def adjustCenter(center, line):\n",
    "    ship_dir = (line[1][0] - line[0][0], line[1][1] - line[0][0])\n",
    "    ship_dir_mag = math.sqrt(ship_dir[0] ** 2 + ship_dir[1] ** 2)\n",
    "    ship_dir_norm = (ship_dir[0]/ship_dir_mag, ship_dir[1]/ship_dir_mag)\n",
    "    normal = (-ship_dir_norm[1], ship_dir_norm[0])\n",
    "    \n",
    "    while not isFeasible(center):\n",
    "        center = (center[0] + STEP * normal[0],\n",
    "                  center[1] + STEP * normal[1])\n",
    "    #print(\"Adjusted!\")\n",
    "    return center\n",
    "    \n",
    "    '''\n",
    "    Recursive version:\n",
    "    \n",
    "    if isFeasible(center):\n",
    "        return center\n",
    "    else:\n",
    "        ship_dir = (line[1][0] - line[0][0], line[1][1] - line[0][0])\n",
    "        ship_dir_mag = math.sqrt(ship_dir[0] ** 2 + ship_dir[1] ** 2)\n",
    "        ship_dir_norm = (ship_dir[0]/ship_dir_mag, ship_dir[1]/ship_dir_mag)\n",
    "        normal = (-ship_dir_norm[1], ship_dir_norm[0])\n",
    "        center = (center[0] + STEP * normal[0],\n",
    "                  center[1] + STEP * normal[1])\n",
    "        \n",
    "        return adjustCenter(center,line)\n",
    "    '''\n",
    "\n",
    "# Line -> [Line]\n",
    "# Generate missing line segments using feasible set model\n",
    "def generateLines(line, level=0):\n",
    "    if length(line) < MAX_LINE_LENGTH:\n",
    "        return [line]\n",
    "    elif level > 2000:\n",
    "        return [line]\n",
    "    else:\n",
    "        center = ((line[1][0] + line[0][0])/2, (line[1][1] + line[0][1])/2)\n",
    "        center = adjustCenter(center, line)\n",
    "        \n",
    "        line1 = (line[0], center)\n",
    "        line2 = (center, line[1])\n",
    "        \n",
    "        out = []\n",
    "        out.extend(generateLines(line1, level=level+1))\n",
    "        out.extend(generateLines(line2, level=level+1))\n",
    "        return out\n",
    "\n",
    "lines_improved = []\n",
    "for line in lines:\n",
    "    if length(line) > MAX_LINE_LENGTH:\n",
    "        lines_improved.extend(generateLines(line)) # replace line by a sequence of line segments\n",
    "    else:\n",
    "        lines_improved.append(line)\n",
    "\n",
    "print('Input number: ',len(lines), '\\nOutput number: ', len(lines_improved))"
   ]
  },
  {
   "cell_type": "code",
   "execution_count": null,
   "metadata": {},
   "outputs": [],
   "source": [
    "plt.figure(figsize=(15, 5), dpi= 80, facecolor='w', edgecolor='k')\n",
    "plt.plot([length(x) for x in lines_improved])\n",
    "plt.ylabel('length (distance units)')\n",
    "plt.xlabel('Line interval number')\n",
    "plt.title('Length of Improved Line Intervals')"
   ]
  },
  {
   "cell_type": "code",
   "execution_count": null,
   "metadata": {},
   "outputs": [],
   "source": [
    "points_x2 = list(zip(*lines_improved))\n",
    "points = points_x2[0]\n",
    "l = list(zip(*points))\n",
    "x = l[0]\n",
    "y = l[1]"
   ]
  },
  {
   "cell_type": "code",
   "execution_count": null,
   "metadata": {},
   "outputs": [],
   "source": [
    "fig = plt.figure(figsize=(15, 15), dpi= 80, facecolor='w', edgecolor='k')\n",
    "ax = fig.add_subplot(111, xlabel=\"Longitude\", ylabel=\"Latitude\", title=\"Feasible Set Of Ships\")\n",
    "plt.imshow(H, interpolation='nearest', origin='low',\n",
    "           extent=[xedges[0], xedges[-1], yedges[0], yedges[-1]],\n",
    "           cmap=mpl.cm.Blues)\n",
    "\n",
    "plt.scatter(x,y, marker='.', color='r', s=5)"
   ]
  },
  {
   "cell_type": "code",
   "execution_count": null,
   "metadata": {},
   "outputs": [],
   "source": []
  },
  {
   "cell_type": "code",
   "execution_count": null,
   "metadata": {},
   "outputs": [],
   "source": []
  }
 ],
 "metadata": {
  "kernelspec": {
   "display_name": "Python 3",
   "language": "python",
   "name": "python3"
  },
  "language_info": {
   "codemirror_mode": {
    "name": "ipython",
    "version": 3
   },
   "file_extension": ".py",
   "mimetype": "text/x-python",
   "name": "python",
   "nbconvert_exporter": "python",
   "pygments_lexer": "ipython3",
   "version": "3.6.5"
  },
  "toc": {
   "base_numbering": 1,
   "nav_menu": {
    "height": "100px",
    "width": "252px"
   },
   "number_sections": true,
   "sideBar": true,
   "skip_h1_title": false,
   "title_cell": "Table of Contents",
   "title_sidebar": "Contents",
   "toc_cell": false,
   "toc_position": {},
   "toc_section_display": "block",
   "toc_window_display": false
  }
 },
 "nbformat": 4,
 "nbformat_minor": 2
}
