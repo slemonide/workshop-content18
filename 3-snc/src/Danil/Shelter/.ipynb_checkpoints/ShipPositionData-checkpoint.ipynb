{
 "cells": [
  {
   "cell_type": "markdown",
   "metadata": {},
   "source": [
    "# Set Up"
   ]
  },
  {
   "cell_type": "code",
   "execution_count": null,
   "metadata": {},
   "outputs": [],
   "source": [
    "import numpy as np\n",
    "import pandas as pd\n",
    "import matplotlib as mpl\n",
    "import matplotlib.pyplot as plt\n",
    "import seaborn as sns\n",
    "import folium\n",
    "import random\n",
    "from scipy.signal import sepfir2d\n",
    "import math\n",
    "%matplotlib inline\n",
    "\n",
    "from os import path, getcwd\n",
    "from glob import glob\n",
    "\n",
    "code_dir = getcwd()\n",
    "data_dir = path.expanduser('~/data/workshop-content18/3-snc/data/')\n",
    "\n",
    "ais_pathnames = glob(data_dir + '*.txt')\n",
    "ais_basenames = [path.basename(pn) for pn in ais_pathnames]\n",
    "\n",
    "delta_cur_basename = next(bn for bn in ais_basenames if 'Deltaport_Current' in bn)\n",
    "delta_his_basename = next(bn for bn in ais_basenames if 'Deltaport_History' in bn)\n",
    "nwest_cur_basename = next(bn for bn in ais_basenames if 'NewWestminster_Current' in bn)\n",
    "nwest_his_basename = next(bn for bn in ais_basenames if 'NewWestminster_History' in bn)\n",
    "\n",
    "max_rows=int(3e6)\n",
    "delta_cur = pd.read_csv(\n",
    "    data_dir + delta_cur_basename, sep='\\t', nrows=max_rows, low_memory=False,\n",
    "    parse_dates=['ReceivedTime'])\n",
    "\n",
    "delta_his = pd.read_csv(\n",
    "    data_dir + delta_his_basename, sep='\\t', nrows=max_rows, low_memory=False,\n",
    "    parse_dates=['ReceivedTime'])\n",
    "\n",
    "nwest_cur = pd.read_csv(\n",
    "    data_dir + nwest_cur_basename, sep='\\t', nrows=max_rows, low_memory=False,\n",
    "    parse_dates=['ReceivedTime'])\n",
    "\n",
    "nwest_his = pd.read_csv(\n",
    "    data_dir + nwest_his_basename, sep='\\t', nrows=max_rows, low_memory=False,\n",
    "    parse_dates=['ReceivedTime'])\n",
    "\n",
    "delta_cur = pd.concat([delta_cur, delta_his, nwest_cur, nwest_his])\n",
    "delta_cur = delta_cur.dropna()\n",
    "\n",
    "delta_cur = None\n",
    "delta_his = None\n",
    "nwest_cur = None\n",
    "nwest_his = None"
   ]
  },
  {
   "cell_type": "markdown",
   "metadata": {},
   "source": [
    "# One Ship"
   ]
  },
  {
   "cell_type": "code",
   "execution_count": null,
   "metadata": {},
   "outputs": [],
   "source": [
    "def RGBToHTMLColor(rgb_tuple):\n",
    "    \"\"\" convert an (R, G, B) tuple to #RRGGBB \"\"\"\n",
    "    hexcolor = '#%02x%02x%02x' % rgb_tuple\n",
    "    # that's it! '%02x' means zero-padded, 2-digit hex values\n",
    "    return hexcolor"
   ]
  },
  {
   "cell_type": "code",
   "execution_count": null,
   "metadata": {},
   "outputs": [],
   "source": [
    "#i = random.randint(1,int(UserID_vc.size))\n",
    "# 117 -- nice one\n",
    "# 95 -- crosses land like crazy, also swims in the river\n",
    "#i = 95\n",
    "i = 272\n",
    "\n",
    "UserID_vc = pd.value_counts(delta_cur.UserID)\n",
    "ship = (delta_cur.loc[delta_cur.UserID == UserID_vc.index[i]])\n",
    "#ship.plot.scatter('Longitude', 'Latitude', title='Index: ' + str(i));\n",
    "\n",
    "ship_sparse = (ship.reset_index(drop=True)\n",
    "                   .iloc[::10, :]\n",
    "                   .reset_index(drop=True))\n",
    "m = folium.Map(location=[49, -123.7], \n",
    "               tiles='Stamen Terrain', zoom_start=9)\n",
    "latlon = zip(list(ship_sparse.Latitude.values), \n",
    "             list(ship_sparse.Longitude.values))\n",
    "folium.PolyLine(list(latlon), color='red').add_to(m)\n",
    "j = 1\n",
    "N = len(ship_sparse.Latitude.values)\n",
    "#for coord in latlon:\n",
    "#    folium.Circle(location=coord, popup=str(j), fill=True, color='blue').add_to(m)\n",
    "    #folium.Circle(location=coord, popup=str(j), fill=True,\n",
    "    #              color=RGBToHTMLColor(((2*j)%255,(5*j)%255,(10*j)%255))).add_to(m)\n",
    "#    j += 1\n",
    "\n",
    "m"
   ]
  }
 ],
 "metadata": {
  "kernelspec": {
   "display_name": "Python 3",
   "language": "python",
   "name": "python3"
  },
  "language_info": {
   "codemirror_mode": {
    "name": "ipython",
    "version": 3
   },
   "file_extension": ".py",
   "mimetype": "text/x-python",
   "name": "python",
   "nbconvert_exporter": "python",
   "pygments_lexer": "ipython3",
   "version": "3.6.5"
  },
  "toc": {
   "base_numbering": 1,
   "nav_menu": {
    "height": "100px",
    "width": "252px"
   },
   "number_sections": true,
   "sideBar": true,
   "skip_h1_title": false,
   "title_cell": "Table of Contents",
   "title_sidebar": "Contents",
   "toc_cell": false,
   "toc_position": {},
   "toc_section_display": "block",
   "toc_window_display": false
  }
 },
 "nbformat": 4,
 "nbformat_minor": 2
}
