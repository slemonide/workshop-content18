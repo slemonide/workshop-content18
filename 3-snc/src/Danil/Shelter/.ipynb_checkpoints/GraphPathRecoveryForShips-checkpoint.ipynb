{
 "cells": [
  {
   "cell_type": "code",
   "execution_count": 17,
   "metadata": {},
   "outputs": [],
   "source": [
    "import numpy as np\n",
    "import pandas as pd\n",
    "import matplotlib as mpl\n",
    "import matplotlib.pyplot as plt\n",
    "import seaborn as sns\n",
    "import folium\n",
    "import random\n",
    "from scipy.signal import sepfir2d\n",
    "import math\n",
    "%matplotlib inline\n",
    "\n",
    "from os import path, getcwd\n",
    "from glob import glob\n",
    "\n",
    "code_dir = getcwd()\n",
    "data_dir = path.expanduser('~/data/workshop-content18/3-snc/data/')\n",
    "\n",
    "ais_pathnames = glob(data_dir + '*.txt')\n",
    "ais_basenames = [path.basename(pn) for pn in ais_pathnames]\n",
    "\n",
    "delta_cur_basename = next(bn for bn in ais_basenames if 'Deltaport_Current' in bn)\n",
    "delta_his_basename = next(bn for bn in ais_basenames if 'Deltaport_History' in bn)\n",
    "nwest_cur_basename = next(bn for bn in ais_basenames if 'NewWestminster_Current' in bn)\n",
    "nwest_his_basename = next(bn for bn in ais_basenames if 'NewWestminster_History' in bn)\n",
    "\n",
    "max_rows=int(3e6)\n",
    "delta_cur = pd.read_csv(\n",
    "    data_dir + delta_cur_basename, sep='\\t', nrows=max_rows, low_memory=False,\n",
    "    parse_dates=['ReceivedTime'])\n",
    "\n",
    "delta_his = pd.read_csv(\n",
    "    data_dir + delta_his_basename, sep='\\t', nrows=max_rows, low_memory=False,\n",
    "    parse_dates=['ReceivedTime'])\n",
    "\n",
    "nwest_cur = pd.read_csv(\n",
    "    data_dir + nwest_cur_basename, sep='\\t', nrows=max_rows, low_memory=False,\n",
    "    parse_dates=['ReceivedTime'])\n",
    "\n",
    "nwest_his = pd.read_csv(\n",
    "    data_dir + nwest_his_basename, sep='\\t', nrows=max_rows, low_memory=False,\n",
    "    parse_dates=['ReceivedTime'])\n",
    "\n",
    "delta_cur = pd.concat([delta_cur, delta_his, nwest_cur, nwest_his])\n",
    "delta_cur = delta_cur.dropna()\n",
    "\n",
    "delta_his = None\n",
    "nwest_cur = None\n",
    "nwest_his = None"
   ]
  },
  {
   "cell_type": "code",
   "execution_count": 60,
   "metadata": {},
   "outputs": [],
   "source": [
    "NUM = 50\n",
    "\n",
    "x = delta_cur.Longitude[~np.isnan(delta_cur.Longitude)]\n",
    "y = delta_cur.Latitude[~np.isnan(delta_cur.Latitude)]\n",
    "\n",
    "START_X = -124\n",
    "END_X = -122\n",
    "\n",
    "START_Y = 48.2\n",
    "END_Y = 49.7\n",
    "\n",
    "xedges = np.linspace(START_X, END_X, num=NUM)\n",
    "yedges = np.linspace(START_Y, END_Y,num=NUM)\n",
    "\n",
    "dx = (END_X - START_X)/NUM\n",
    "dy = (END_Y - START_Y)/NUM\n",
    "\n",
    "H, xedges, yedges = np.histogram2d(x, y, bins=(xedges, yedges), normed=True)\n",
    "x = None\n",
    "y = None\n",
    "\n",
    "H = H.T  # Let each row list bins with common y range.\n",
    "\n",
    "H = sepfir2d(H, np.ones(4), np.ones(4))\n",
    "\n",
    "#H[H>0] = 1\n",
    "\n",
    "# Point -> (Int, Int) or False\n",
    "# get i,j indices in the feasible set from coordinates\n",
    "def pos2ij(point):\n",
    "    if point[0] < START_X or point[0] > END_X:\n",
    "        return False\n",
    "    if point[1] < START_Y or point[1] > END_Y:\n",
    "        return False\n",
    "    \n",
    "    return (int((point[0] - START_X)/dx), int((point[1] - START_Y)/dy))\n",
    "\n",
    "def ij2pos(ij):\n",
    "    i = ij[0]\n",
    "    j = ij[1]\n",
    "    return (i*dx + START_X, j*dy + START_Y)"
   ]
  },
  {
   "cell_type": "code",
   "execution_count": 61,
   "metadata": {},
   "outputs": [],
   "source": [
    "N = NUM\n",
    "M = H\n",
    "#np.ones([NUM,NUM])\n",
    "\n",
    "UserID_vc = pd.value_counts(delta_cur.UserID)\n",
    "#i = random.randint(1,int(UserID_vc.size)) # 117\n",
    "#i = 182 # 95 # 59\n",
    "#i = 117\n",
    "#i = 272\n",
    "i = 206\n",
    "ship = (delta_cur.loc[delta_cur.UserID == UserID_vc.index[i]])\n",
    "\n",
    "x = list(ship.Longitude)\n",
    "y = list(ship.Latitude)\n",
    "\n",
    "broken_path = [pos2ij(p) for p in zip(x,y) if pos2ij(p)]"
   ]
  },
  {
   "cell_type": "code",
   "execution_count": 85,
   "metadata": {},
   "outputs": [],
   "source": [
    "def safeadd(todo,wle):\n",
    "    p = wle[0]\n",
    "    if p[0] >= 0 and p[0] < N - 1 and p[1] >= 0 and p[1] < N - 1:\n",
    "        if M[p[0],p[1]] > 0:\n",
    "            todo.append(wle)\n",
    "\n",
    "def getPath(p0, p1):\n",
    "    # WLE is (Point, (Point))\n",
    "    todo = [(p0, ())]\n",
    "    visited = set()\n",
    "    \n",
    "    while todo:\n",
    "        p, path = todo.pop()\n",
    "        if p == p1:\n",
    "            return ((p, *path), visited)\n",
    "        if p not in visited:\n",
    "            visited.add(p)\n",
    "            safeadd(todo, ((p[0]+1,p[1]), (p, *path)))\n",
    "            safeadd(todo, ((p[0]-1,p[1]), (p, *path)))\n",
    "            safeadd(todo, ((p[0],p[1]+1), (p, *path)))\n",
    "            safeadd(todo, ((p[0],p[1]-1), (p, *path)))\n",
    "            \n",
    "            #safeadd(todo, ((p[0]+1,p[1]-1), (p, *path)))\n",
    "            #safeadd(todo, ((p[0]+1,p[1]+1), (p, *path)))\n",
    "            #safeadd(todo, ((p[0]-1,p[1]-1), (p, *path)))\n",
    "            #safeadd(todo, ((p[0]-1,p[1]+1), (p, *path)))\n",
    "            todo.sort(key=lambda p: -math.hypot(p[0][0] - p1[0], p[0][1] - p1[1]))\n",
    "            \n",
    "    return ((p0, p1), {})"
   ]
  },
  {
   "cell_type": "code",
   "execution_count": 86,
   "metadata": {},
   "outputs": [
    {
     "data": {
      "application/vnd.jupyter.widget-view+json": {
       "model_id": "6b241b4ed982495d9b933c23016ac35c",
       "version_major": 2,
       "version_minor": 0
      },
      "text/html": [
       "<p>Failed to display Jupyter Widget of type <code>VBox</code>.</p>\n",
       "<p>\n",
       "  If you're reading this message in the Jupyter Notebook or JupyterLab Notebook, it may mean\n",
       "  that the widgets JavaScript is still loading. If this message persists, it\n",
       "  likely means that the widgets JavaScript library is either not installed or\n",
       "  not enabled. See the <a href=\"https://ipywidgets.readthedocs.io/en/stable/user_install.html\">Jupyter\n",
       "  Widgets Documentation</a> for setup instructions.\n",
       "</p>\n",
       "<p>\n",
       "  If you're reading this message in another frontend (for example, a static\n",
       "  rendering on GitHub or <a href=\"https://nbviewer.jupyter.org/\">NBViewer</a>),\n",
       "  it may mean that your frontend doesn't currently support widgets.\n",
       "</p>\n"
      ],
      "text/plain": [
       "VBox(children=(HTML(value=''), IntProgress(value=0, max=14572)))"
      ]
     },
     "metadata": {},
     "output_type": "display_data"
    }
   ],
   "source": [
    "#total_path = []\n",
    "total_visited = []\n",
    "for idx in log_progress(range(0, len(broken_path)-1)):\n",
    "    (path, visited) = getPath(broken_path[idx], broken_path[idx+1])\n",
    "    #total_path.extend(path)\n",
    "    total_visited.extend(visited)"
   ]
  },
  {
   "cell_type": "code",
   "execution_count": 87,
   "metadata": {},
   "outputs": [],
   "source": [
    "path = [ij2pos((p[1],p[0])) for p in total_visited]"
   ]
  },
  {
   "cell_type": "code",
   "execution_count": 88,
   "metadata": {},
   "outputs": [
    {
     "data": {
      "text/plain": [
       "<matplotlib.collections.PathCollection at 0x7fd3b5fa2588>"
      ]
     },
     "execution_count": 88,
     "metadata": {},
     "output_type": "execute_result"
    },
    {
     "data": {
      "image/png": "[encoded data removed]",
      "text/plain": [
       "<matplotlib.figure.Figure at 0x7fd3b925f780>"
      ]
     },
     "metadata": {},
     "output_type": "display_data"
    }
   ],
   "source": [
    "fig = plt.figure(figsize=(15, 15), dpi= 80, facecolor='w', edgecolor='k')\n",
    "ax = fig.add_subplot(111, xlabel=\"Longitude\", ylabel=\"Latitude\", title=\"Feasible Set Of Ships\")\n",
    "H[H >0] = 1\n",
    "plt.imshow(H, interpolation='nearest', origin='low',\n",
    "           extent=[xedges[0], xedges[-1], yedges[0], yedges[-1]],\n",
    "           cmap=mpl.cm.binary)\n",
    "(X,Y) = list(zip(*set(path)))\n",
    "plt.scatter(X,Y, marker='*', color='g', s=100)\n",
    "plt.scatter(x,y, marker='.', color='r', s=10)"
   ]
  },
  {
   "cell_type": "code",
   "execution_count": null,
   "metadata": {},
   "outputs": [],
   "source": []
  },
  {
   "cell_type": "code",
   "execution_count": 54,
   "metadata": {},
   "outputs": [],
   "source": [
    "def log_progress(sequence, every=None, size=None, name='Items'):\n",
    "    from ipywidgets import IntProgress, HTML, VBox\n",
    "    from IPython.display import display\n",
    "\n",
    "    is_iterator = False\n",
    "    if size is None:\n",
    "        try:\n",
    "            size = len(sequence)\n",
    "        except TypeError:\n",
    "            is_iterator = True\n",
    "    if size is not None:\n",
    "        if every is None:\n",
    "            if size <= 200:\n",
    "                every = 1\n",
    "            else:\n",
    "                every = int(size / 200)     # every 0.5%\n",
    "    else:\n",
    "        assert every is not None, 'sequence is iterator, set every'\n",
    "\n",
    "    if is_iterator:\n",
    "        progress = IntProgress(min=0, max=1, value=1)\n",
    "        progress.bar_style = 'info'\n",
    "    else:\n",
    "        progress = IntProgress(min=0, max=size, value=0)\n",
    "    label = HTML()\n",
    "    box = VBox(children=[label, progress])\n",
    "    display(box)\n",
    "\n",
    "    index = 0\n",
    "    try:\n",
    "        for index, record in enumerate(sequence, 1):\n",
    "            if index == 1 or index % every == 0:\n",
    "                if is_iterator:\n",
    "                    label.value = '{name}: {index} / ?'.format(\n",
    "                        name=name,\n",
    "                        index=index\n",
    "                    )\n",
    "                else:\n",
    "                    progress.value = index\n",
    "                    label.value = u'{name}: {index} / {size}'.format(\n",
    "                        name=name,\n",
    "                        index=index,\n",
    "                        size=size\n",
    "                    )\n",
    "            yield record\n",
    "    except:\n",
    "        progress.bar_style = 'danger'\n",
    "        raise\n",
    "    else:\n",
    "        progress.bar_style = 'success'\n",
    "        progress.value = index\n",
    "        label.value = \"{name}: {index}\".format(\n",
    "            name=name,\n",
    "            index=str(index or '?')\n",
    "        )"
   ]
  },
  {
   "cell_type": "code",
   "execution_count": null,
   "metadata": {},
   "outputs": [],
   "source": []
  }
 ],
 "metadata": {
  "kernelspec": {
   "display_name": "Python 3",
   "language": "python",
   "name": "python3"
  },
  "language_info": {
   "codemirror_mode": {
    "name": "ipython",
    "version": 3
   },
   "file_extension": ".py",
   "mimetype": "text/x-python",
   "name": "python",
   "nbconvert_exporter": "python",
   "pygments_lexer": "ipython3",
   "version": "3.6.5"
  }
 },
 "nbformat": 4,
 "nbformat_minor": 2
}
