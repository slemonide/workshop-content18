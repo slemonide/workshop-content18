{
 "cells": [
  {
   "cell_type": "markdown",
   "metadata": {},
   "source": [
    "# Set Up"
   ]
  },
  {
   "cell_type": "code",
   "execution_count": 1,
   "metadata": {},
   "outputs": [],
   "source": [
    "import numpy as np\n",
    "import pandas as pd\n",
    "import matplotlib.pyplot as plt\n",
    "import matplotlib as mpl\n",
    "import seaborn as sns\n",
    "import folium\n",
    "import random\n",
    "import math\n",
    "%matplotlib inline\n",
    "\n",
    "from os import path, getcwd\n",
    "from glob import glob\n",
    "\n",
    "code_dir = getcwd()\n",
    "data_dir = path.expanduser('~/data/workshop-content18/3-snc/data/')\n",
    "\n",
    "ais_pathnames = glob(data_dir + '*.txt')\n",
    "ais_basenames = [path.basename(pn) for pn in ais_pathnames]\n",
    "\n",
    "delta_cur_basename = next(bn for bn in ais_basenames if 'Deltaport_Current' in bn)\n",
    "delta_his_basename = next(bn for bn in ais_basenames if 'Deltaport_History' in bn)\n",
    "\n",
    "max_rows=int(3e6)\n",
    "delta_cur = pd.read_csv(\n",
    "    data_dir + delta_cur_basename, sep='\\t', nrows=max_rows, low_memory=False,\n",
    "    parse_dates=['ReceivedTime'])"
   ]
  },
  {
   "cell_type": "code",
   "execution_count": 2,
   "metadata": {},
   "outputs": [],
   "source": [
    "if delta_cur.isna().iloc[-1,:].sum() > 10:\n",
    "    delta_cur = delta_cur.iloc[:-1, :]"
   ]
  },
  {
   "cell_type": "code",
   "execution_count": 3,
   "metadata": {},
   "outputs": [],
   "source": [
    "delta_cur.UserID = delta_cur.UserID.astype('category')"
   ]
  },
  {
   "cell_type": "code",
   "execution_count": 4,
   "metadata": {},
   "outputs": [],
   "source": [
    "delta_cur = delta_cur.loc[delta_cur.Latitude < 80]"
   ]
  },
  {
   "cell_type": "code",
   "execution_count": 5,
   "metadata": {},
   "outputs": [],
   "source": [
    "nPoints_by_UserID = pd.value_counts(delta_cur.UserID)"
   ]
  },
  {
   "cell_type": "code",
   "execution_count": 6,
   "metadata": {},
   "outputs": [],
   "source": [
    "nPoints_threshold = 1000\n",
    "userID_allowed = nPoints_by_UserID.index[nPoints_by_UserID > nPoints_threshold]\n",
    "userID_allowed.values.remove_unused_categories(inplace=True)"
   ]
  },
  {
   "cell_type": "code",
   "execution_count": 7,
   "metadata": {},
   "outputs": [],
   "source": [
    "delta_cur = delta_cur.loc[delta_cur.UserID.apply(lambda x: x in userID_allowed.values)]"
   ]
  },
  {
   "cell_type": "code",
   "execution_count": 8,
   "metadata": {},
   "outputs": [
    {
     "data": {
      "text/html": [
       "<div>\n",
       "<style scoped>\n",
       "    .dataframe tbody tr th:only-of-type {\n",
       "        vertical-align: middle;\n",
       "    }\n",
       "\n",
       "    .dataframe tbody tr th {\n",
       "        vertical-align: top;\n",
       "    }\n",
       "\n",
       "    .dataframe thead th {\n",
       "        text-align: right;\n",
       "    }\n",
       "</style>\n",
       "<table border=\"1\" class=\"dataframe\">\n",
       "  <thead>\n",
       "    <tr style=\"text-align: right;\">\n",
       "      <th></th>\n",
       "      <th>ReceivedTime</th>\n",
       "    </tr>\n",
       "  </thead>\n",
       "  <tbody>\n",
       "    <tr>\n",
       "      <th>2013-10-23</th>\n",
       "      <td>276045</td>\n",
       "    </tr>\n",
       "    <tr>\n",
       "      <th>2013-10-29</th>\n",
       "      <td>267727</td>\n",
       "    </tr>\n",
       "    <tr>\n",
       "      <th>2013-10-22</th>\n",
       "      <td>266404</td>\n",
       "    </tr>\n",
       "    <tr>\n",
       "      <th>2013-10-27</th>\n",
       "      <td>259420</td>\n",
       "    </tr>\n",
       "    <tr>\n",
       "      <th>2013-10-28</th>\n",
       "      <td>253972</td>\n",
       "    </tr>\n",
       "    <tr>\n",
       "      <th>2013-10-26</th>\n",
       "      <td>238035</td>\n",
       "    </tr>\n",
       "    <tr>\n",
       "      <th>2013-10-30</th>\n",
       "      <td>237996</td>\n",
       "    </tr>\n",
       "    <tr>\n",
       "      <th>2013-10-31</th>\n",
       "      <td>237442</td>\n",
       "    </tr>\n",
       "    <tr>\n",
       "      <th>2013-10-25</th>\n",
       "      <td>220591</td>\n",
       "    </tr>\n",
       "    <tr>\n",
       "      <th>2013-10-24</th>\n",
       "      <td>196405</td>\n",
       "    </tr>\n",
       "  </tbody>\n",
       "</table>\n",
       "</div>"
      ],
      "text/plain": [
       "            ReceivedTime\n",
       "2013-10-23        276045\n",
       "2013-10-29        267727\n",
       "2013-10-22        266404\n",
       "2013-10-27        259420\n",
       "2013-10-28        253972\n",
       "2013-10-26        238035\n",
       "2013-10-30        237996\n",
       "2013-10-31        237442\n",
       "2013-10-25        220591\n",
       "2013-10-24        196405"
      ]
     },
     "execution_count": 8,
     "metadata": {},
     "output_type": "execute_result"
    }
   ],
   "source": [
    "ReceivedDate = delta_cur.ReceivedTime.dt.date\n",
    "ReceivedDate_ValueCounts = pd.value_counts(ReceivedDate)\n",
    "ReceivedDate_ValueCounts.to_frame()"
   ]
  },
  {
   "cell_type": "code",
   "execution_count": 9,
   "metadata": {},
   "outputs": [],
   "source": [
    "delta_cur['ReceivedDay'] = ReceivedDate.apply(lambda x: x.day)"
   ]
  },
  {
   "cell_type": "code",
   "execution_count": 10,
   "metadata": {},
   "outputs": [],
   "source": [
    "sns.set(style=\"whitegrid\", color_codes=True)"
   ]
  },
  {
   "cell_type": "code",
   "execution_count": 11,
   "metadata": {},
   "outputs": [],
   "source": [
    "df_grp = delta_cur.groupby(['ReceivedDay', 'UserID'])"
   ]
  },
  {
   "cell_type": "markdown",
   "metadata": {},
   "source": [
    "Let's plot records of ships just on the 22nd"
   ]
  },
  {
   "cell_type": "code",
   "execution_count": 12,
   "metadata": {},
   "outputs": [],
   "source": [
    "delta_cur_22 = delta_cur.loc[delta_cur.ReceivedDay == 22, :]"
   ]
  },
  {
   "cell_type": "markdown",
   "metadata": {},
   "source": [
    "# One Ship"
   ]
  },
  {
   "cell_type": "code",
   "execution_count": null,
   "metadata": {
    "scrolled": false
   },
   "outputs": [],
   "source": [
    "UserID_vc = pd.value_counts(delta_cur.UserID)\n",
    "i = random.randint(1,int(UserID_vc.size)) # 117\n",
    "ship = (delta_cur.loc[delta_cur.UserID == UserID_vc.index[i]])\n",
    "\n",
    "\n",
    "xedges = np.load('xedges.dat')\n",
    "yedges = np.load('yedges.dat')\n",
    "H = np.load('FS.dat') # feasible set\n",
    "\n",
    "x = list(ship.Longitude)\n",
    "y = list(ship.Latitude)\n",
    "\n",
    "fig = plt.figure(figsize=(15, 15), dpi= 80, facecolor='w', edgecolor='k')\n",
    "ax = fig.add_subplot(111, xlabel=\"Longitude\", ylabel=\"Latitude\", title=\"Feasible Set Of Ships\")\n",
    "plt.imshow(H, interpolation='nearest', origin='low',\n",
    "           extent=[xedges[0], xedges[-1], yedges[0], yedges[-1]],\n",
    "           cmap=mpl.cm.Oranges)\n",
    "\n",
    "plt.scatter(x,y, marker='.')"
   ]
  },
  {
   "cell_type": "code",
   "execution_count": null,
   "metadata": {},
   "outputs": [],
   "source": []
  }
 ],
 "metadata": {
  "kernelspec": {
   "display_name": "Python 3",
   "language": "python",
   "name": "python3"
  },
  "language_info": {
   "codemirror_mode": {
    "name": "ipython",
    "version": 3
   },
   "file_extension": ".py",
   "mimetype": "text/x-python",
   "name": "python",
   "nbconvert_exporter": "python",
   "pygments_lexer": "ipython3",
   "version": "3.6.5"
  },
  "toc": {
   "base_numbering": 1,
   "nav_menu": {
    "height": "100px",
    "width": "252px"
   },
   "number_sections": true,
   "sideBar": true,
   "skip_h1_title": false,
   "title_cell": "Table of Contents",
   "title_sidebar": "Contents",
   "toc_cell": false,
   "toc_position": {},
   "toc_section_display": "block",
   "toc_window_display": false
  }
 },
 "nbformat": 4,
 "nbformat_minor": 2
}
